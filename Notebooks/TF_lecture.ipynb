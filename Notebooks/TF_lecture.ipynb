{
  "nbformat": 4,
  "nbformat_minor": 0,
  "metadata": {
    "kernelspec": {
      "display_name": "Python 3",
      "language": "python",
      "name": "python3"
    },
    "language_info": {
      "codemirror_mode": {
        "name": "ipython",
        "version": 3
      },
      "file_extension": ".py",
      "mimetype": "text/x-python",
      "name": "python",
      "nbconvert_exporter": "python",
      "pygments_lexer": "ipython3",
      "version": "3.6.5"
    },
    "colab": {
      "name": "TF_lecture.ipynb",
      "version": "0.3.2",
      "provenance": [],
      "include_colab_link": true
    }
  },
  "cells": [
    {
      "cell_type": "markdown",
      "metadata": {
        "id": "view-in-github",
        "colab_type": "text"
      },
      "source": [
        "<a href=\"https://colab.research.google.com/github/lucasresck/FGV-EMAp/blob/master/Cientific%20Initiation/TF_lecture.ipynb\" target=\"_parent\"><img src=\"https://colab.research.google.com/assets/colab-badge.svg\" alt=\"Open In Colab\"/></a>"
      ]
    },
    {
      "cell_type": "markdown",
      "metadata": {
        "id": "GVbnm57U5WyX",
        "colab_type": "text"
      },
      "source": [
        "# CS294-112 Fall 2018 Tensorflow Tutorial"
      ]
    },
    {
      "cell_type": "markdown",
      "metadata": {
        "id": "CtQHU7dC5Wya",
        "colab_type": "text"
      },
      "source": [
        "This tutorial will provide a brief overview of the core concepts and functionality of Tensorflow. This tutorial will cover the following:\n",
        "\n",
        "0. What is Tensorflow\n",
        "1. How to input data\n",
        "2. How to perform computations\n",
        "3. How to create variables\n",
        "4. How to train a neural network for a simple regression problem\n",
        "5. Tips and tricks"
      ]
    },
    {
      "cell_type": "code",
      "metadata": {
        "id": "mtYIxMKy5Wyc",
        "colab_type": "code",
        "colab": {}
      },
      "source": [
        "import tensorflow as tf\n",
        "import numpy as np\n",
        "import matplotlib.pyplot as plt\n",
        "import matplotlib.cm as cm\n",
        "import matplotlib.patches as mpatches"
      ],
      "execution_count": 0,
      "outputs": []
    },
    {
      "cell_type": "code",
      "metadata": {
        "id": "SyQzxJMh5Wyk",
        "colab_type": "code",
        "colab": {}
      },
      "source": [
        "def tf_reset():\n",
        "    try:\n",
        "        sess.close()\n",
        "    except:\n",
        "        pass\n",
        "    tf.reset_default_graph()\n",
        "    return tf.Session()"
      ],
      "execution_count": 0,
      "outputs": []
    },
    {
      "cell_type": "markdown",
      "metadata": {
        "id": "SmdbndRD5Wyr",
        "colab_type": "text"
      },
      "source": [
        "# 0. What is Tensorflow\n",
        "\n",
        "Tensorflow is a framework to define a series of computations. You define inputs, what operations should be performed, and then Tensorflow will compute the outputs for you.\n",
        "\n",
        "Below is a simple high-level example:"
      ]
    },
    {
      "cell_type": "code",
      "metadata": {
        "id": "ehvYPtux5Wyt",
        "colab_type": "code",
        "outputId": "d5fa0f99-6337-4279-fcb3-706e94545d6e",
        "colab": {
          "base_uri": "https://localhost:8080/",
          "height": 34
        }
      },
      "source": [
        "# create the session you'll work in\n",
        "# you can think of this as a \"blank piece of paper\" that you'll be writing math on\n",
        "sess = tf_reset()\n",
        "\n",
        "# define your inputs\n",
        "a = tf.constant(1.0)\n",
        "b = tf.constant(2.0)\n",
        "\n",
        "# do some operations\n",
        "c = a + b\n",
        "\n",
        "# get the result\n",
        "c_run = sess.run(c)\n",
        "\n",
        "print('c = {0}'.format(c_run))"
      ],
      "execution_count": 58,
      "outputs": [
        {
          "output_type": "stream",
          "text": [
            "c = 3.0\n"
          ],
          "name": "stdout"
        }
      ]
    },
    {
      "cell_type": "markdown",
      "metadata": {
        "id": "mD0_Fjwo5Wy1",
        "colab_type": "text"
      },
      "source": [
        "# 1. How to input data\n",
        "\n",
        "Tensorflow has multiple ways for you to input data. One way is to have the inputs be constants:"
      ]
    },
    {
      "cell_type": "code",
      "metadata": {
        "id": "OWI4t7_Y5Wy3",
        "colab_type": "code",
        "outputId": "fc7ea47a-ea7d-445e-9a3c-9bdb761ff742",
        "colab": {
          "base_uri": "https://localhost:8080/",
          "height": 34
        }
      },
      "source": [
        "sess = tf_reset()\n",
        "\n",
        "# define your inputs\n",
        "a = tf.constant(1.0)\n",
        "b = tf.constant(2.0)\n",
        "\n",
        "# do some operations\n",
        "c = a + b\n",
        "\n",
        "# get the result\n",
        "c_run = sess.run(c)\n",
        "\n",
        "print('c = {0}'.format(c_run))"
      ],
      "execution_count": 59,
      "outputs": [
        {
          "output_type": "stream",
          "text": [
            "c = 3.0\n"
          ],
          "name": "stdout"
        }
      ]
    },
    {
      "cell_type": "markdown",
      "metadata": {
        "id": "tx-z6BUP5Wy-",
        "colab_type": "text"
      },
      "source": [
        "However, having our inputs be constants is inflexible. We want to be able to change what data we input at runtime. We can do this using placeholders:"
      ]
    },
    {
      "cell_type": "code",
      "metadata": {
        "id": "2rgZ2MDX5Wy_",
        "colab_type": "code",
        "outputId": "3139bd25-21dc-4c86-834a-f49486291596",
        "colab": {
          "base_uri": "https://localhost:8080/",
          "height": 51
        }
      },
      "source": [
        "sess = tf_reset()\n",
        "\n",
        "# define your inputs\n",
        "a = tf.placeholder(dtype=tf.float32, shape=[1], name='a_placeholder')\n",
        "b = tf.placeholder(dtype=tf.float32, shape=[1], name='b_placeholder')\n",
        "\n",
        "# do some operations\n",
        "c = a + b\n",
        "\n",
        "# get the result\n",
        "c0_run = sess.run(c, feed_dict={a: [1.0], b: [2.0]})\n",
        "c1_run = sess.run(c, feed_dict={a: [2.0], b: [4.0]})\n",
        "\n",
        "print('c0 = {0}'.format(c0_run))\n",
        "print('c1 = {0}'.format(c1_run))"
      ],
      "execution_count": 60,
      "outputs": [
        {
          "output_type": "stream",
          "text": [
            "c0 = [3.]\n",
            "c1 = [6.]\n"
          ],
          "name": "stdout"
        }
      ]
    },
    {
      "cell_type": "markdown",
      "metadata": {
        "id": "K0cvcZzz5WzG",
        "colab_type": "text"
      },
      "source": [
        "But what if we don't know the size of our input beforehand? One dimension of a tensor is allowed to be 'None', which means it can be variable sized:"
      ]
    },
    {
      "cell_type": "code",
      "metadata": {
        "id": "OB0Dz4bA5WzI",
        "colab_type": "code",
        "outputId": "b575a7b0-9fe6-474a-ed2a-3aca6a7f8caf",
        "colab": {
          "base_uri": "https://localhost:8080/",
          "height": 119
        }
      },
      "source": [
        "sess = tf_reset()\n",
        "\n",
        "# inputs\n",
        "a = tf.placeholder(dtype=tf.float32, shape=[None], name='a_placeholder')\n",
        "b = tf.placeholder(dtype=tf.float32, shape=[None], name='b_placeholder')\n",
        "\n",
        "# do some operations\n",
        "c = a + b\n",
        "\n",
        "# get outputs\n",
        "c0_run = sess.run(c, feed_dict={a: [1.0], b: [2.0]})\n",
        "c1_run = sess.run(c, feed_dict={a: [1.0, 2.0], b: [2.0, 4.0]})\n",
        "\n",
        "print(a)\n",
        "print('a shape: {0}'.format(a.get_shape()))\n",
        "print(b)\n",
        "print('b shape: {0}'.format(b.get_shape()))\n",
        "print('c0 = {0}'.format(c0_run))\n",
        "print('c1 = {0}'.format(c1_run))"
      ],
      "execution_count": 61,
      "outputs": [
        {
          "output_type": "stream",
          "text": [
            "Tensor(\"a_placeholder:0\", shape=(?,), dtype=float32)\n",
            "a shape: (?,)\n",
            "Tensor(\"b_placeholder:0\", shape=(?,), dtype=float32)\n",
            "b shape: (?,)\n",
            "c0 = [3.]\n",
            "c1 = [3. 6.]\n"
          ],
          "name": "stdout"
        }
      ]
    },
    {
      "cell_type": "markdown",
      "metadata": {
        "id": "46fuNsj35WzP",
        "colab_type": "text"
      },
      "source": [
        "# 2. How to perform computations\n",
        "\n",
        "Now that we can input data, we want to perform useful computations on the data."
      ]
    },
    {
      "cell_type": "markdown",
      "metadata": {
        "id": "71MRJd_A5WzR",
        "colab_type": "text"
      },
      "source": [
        "First, let's create some data to work with:"
      ]
    },
    {
      "cell_type": "code",
      "metadata": {
        "id": "0Jvw_GZ05WzT",
        "colab_type": "code",
        "outputId": "3b1dc455-4c01-4a9a-d057-727c748390e3",
        "colab": {
          "base_uri": "https://localhost:8080/",
          "height": 119
        }
      },
      "source": [
        "sess = tf_reset()\n",
        "\n",
        "# inputs\n",
        "a = tf.constant([[-1.], [-2.], [-3.]], dtype=tf.float32)\n",
        "b = tf.constant([[1., 2., 3.]], dtype=tf.float32)\n",
        "\n",
        "a_run, b_run = sess.run([a, b])\n",
        "print('a:\\n{0}'.format(a_run))\n",
        "print('b:\\n{0}'.format(b_run))"
      ],
      "execution_count": 62,
      "outputs": [
        {
          "output_type": "stream",
          "text": [
            "a:\n",
            "[[-1.]\n",
            " [-2.]\n",
            " [-3.]]\n",
            "b:\n",
            "[[1. 2. 3.]]\n"
          ],
          "name": "stdout"
        }
      ]
    },
    {
      "cell_type": "markdown",
      "metadata": {
        "id": "d04wXIlp5WzZ",
        "colab_type": "text"
      },
      "source": [
        "We can do simple operations, such as addition:"
      ]
    },
    {
      "cell_type": "code",
      "metadata": {
        "id": "cvEATzoL5Wzb",
        "colab_type": "code",
        "outputId": "8165d831-cc86-418f-c751-c911482f2ca7",
        "colab": {
          "base_uri": "https://localhost:8080/",
          "height": 85
        }
      },
      "source": [
        "c = b + b\n",
        "\n",
        "c_run = sess.run(c)\n",
        "print('b:\\n{0}'.format(b_run))\n",
        "print('c:\\n{0}'.format(c_run))"
      ],
      "execution_count": 63,
      "outputs": [
        {
          "output_type": "stream",
          "text": [
            "b:\n",
            "[[1. 2. 3.]]\n",
            "c:\n",
            "[[2. 4. 6.]]\n"
          ],
          "name": "stdout"
        }
      ]
    },
    {
      "cell_type": "markdown",
      "metadata": {
        "id": "TVvjGn2i5Wzh",
        "colab_type": "text"
      },
      "source": [
        "Be careful about the dimensions of the tensors, some operations may work even when you think they shouldn't..."
      ]
    },
    {
      "cell_type": "code",
      "metadata": {
        "id": "VFhFdXL85Wzj",
        "colab_type": "code",
        "outputId": "c61d8efc-e478-4685-b314-9b133ba38ce6",
        "colab": {
          "base_uri": "https://localhost:8080/",
          "height": 187
        }
      },
      "source": [
        "c = a + b\n",
        "\n",
        "c_run = sess.run(c)\n",
        "print('a:\\n{0}'.format(a_run))\n",
        "print('b:\\n{0}'.format(b_run))\n",
        "print('c:\\n{0}'.format(c_run))"
      ],
      "execution_count": 64,
      "outputs": [
        {
          "output_type": "stream",
          "text": [
            "a:\n",
            "[[-1.]\n",
            " [-2.]\n",
            " [-3.]]\n",
            "b:\n",
            "[[1. 2. 3.]]\n",
            "c:\n",
            "[[ 0.  1.  2.]\n",
            " [-1.  0.  1.]\n",
            " [-2. -1.  0.]]\n"
          ],
          "name": "stdout"
        }
      ]
    },
    {
      "cell_type": "markdown",
      "metadata": {
        "id": "UK7quyb15Wzq",
        "colab_type": "text"
      },
      "source": [
        "Also, some operations may be different than what you expect:"
      ]
    },
    {
      "cell_type": "code",
      "metadata": {
        "id": "IPo5NY7m5Wzs",
        "colab_type": "code",
        "outputId": "8ce62635-0a77-4169-9b15-e42fd27abd12",
        "colab": {
          "base_uri": "https://localhost:8080/",
          "height": 221
        }
      },
      "source": [
        "c_elementwise = a * b\n",
        "c_matmul = tf.matmul(b, a)\n",
        "\n",
        "c_elementwise_run, c_matmul_run = sess.run([c_elementwise, c_matmul])\n",
        "print('a:\\n{0}'.format(a_run))\n",
        "print('b:\\n{0}'.format(b_run))\n",
        "print('c_elementwise:\\n{0}'.format(c_elementwise_run))\n",
        "print('c_matmul: \\n{0}'.format(c_matmul_run))"
      ],
      "execution_count": 65,
      "outputs": [
        {
          "output_type": "stream",
          "text": [
            "a:\n",
            "[[-1.]\n",
            " [-2.]\n",
            " [-3.]]\n",
            "b:\n",
            "[[1. 2. 3.]]\n",
            "c_elementwise:\n",
            "[[-1. -2. -3.]\n",
            " [-2. -4. -6.]\n",
            " [-3. -6. -9.]]\n",
            "c_matmul: \n",
            "[[-14.]]\n"
          ],
          "name": "stdout"
        }
      ]
    },
    {
      "cell_type": "markdown",
      "metadata": {
        "id": "E0xibQ_x5Wzy",
        "colab_type": "text"
      },
      "source": [
        "Operations can be chained together:"
      ]
    },
    {
      "cell_type": "code",
      "metadata": {
        "id": "q2P29AYt5Wz0",
        "colab_type": "code",
        "outputId": "eb688517-16b7-4fb0-cf4e-cda432e07e47",
        "colab": {
          "base_uri": "https://localhost:8080/",
          "height": 119
        }
      },
      "source": [
        "# operations can be chained together\n",
        "c0 = b + b\n",
        "c1 = c0 + 1\n",
        "\n",
        "c0_run, c1_run = sess.run([c0, c1])\n",
        "print('b:\\n{0}'.format(b_run))\n",
        "print('c0:\\n{0}'.format(c0_run))\n",
        "print('c1:\\n{0}'.format(c1_run))"
      ],
      "execution_count": 66,
      "outputs": [
        {
          "output_type": "stream",
          "text": [
            "b:\n",
            "[[1. 2. 3.]]\n",
            "c0:\n",
            "[[2. 4. 6.]]\n",
            "c1:\n",
            "[[3. 5. 7.]]\n"
          ],
          "name": "stdout"
        }
      ]
    },
    {
      "cell_type": "markdown",
      "metadata": {
        "id": "n-IIQd4l5Wz6",
        "colab_type": "text"
      },
      "source": [
        "Finally, Tensorflow has many useful built-in operations:"
      ]
    },
    {
      "cell_type": "code",
      "metadata": {
        "id": "mGOLiDYX5Wz8",
        "colab_type": "code",
        "outputId": "385aa320-3245-4fe2-9d81-ac31658d887c",
        "colab": {
          "base_uri": "https://localhost:8080/",
          "height": 85
        }
      },
      "source": [
        "c = tf.reduce_mean(b)\n",
        "\n",
        "c_run = sess.run(c)\n",
        "print('b:\\n{0}'.format(b_run))\n",
        "print('c:\\n{0}'.format(c_run))"
      ],
      "execution_count": 67,
      "outputs": [
        {
          "output_type": "stream",
          "text": [
            "b:\n",
            "[[1. 2. 3.]]\n",
            "c:\n",
            "2.0\n"
          ],
          "name": "stdout"
        }
      ]
    },
    {
      "cell_type": "markdown",
      "metadata": {
        "id": "4PL7MmHR5W0C",
        "colab_type": "text"
      },
      "source": [
        "# 3. How to create variables\n",
        "\n",
        "Now that we can input data and perform computations, we want some of these operations to involve variables that are free parameters, and can be trained using an optimizer (e.g., gradient descent)."
      ]
    },
    {
      "cell_type": "markdown",
      "metadata": {
        "id": "GJ1g-Yy-5W0E",
        "colab_type": "text"
      },
      "source": [
        "First, let's create some data to work with:"
      ]
    },
    {
      "cell_type": "code",
      "metadata": {
        "id": "leS_fZqo5W0G",
        "colab_type": "code",
        "outputId": "20127621-f692-40c4-eaed-07578a115d32",
        "colab": {
          "base_uri": "https://localhost:8080/",
          "height": 51
        }
      },
      "source": [
        "sess = tf_reset()\n",
        "\n",
        "# inputs\n",
        "b = tf.constant([[1., 2., 3.]], dtype=tf.float32)\n",
        "\n",
        "sess = tf.Session()\n",
        "\n",
        "b_run = sess.run(b)\n",
        "print('b:\\n{0}'.format(b_run))"
      ],
      "execution_count": 75,
      "outputs": [
        {
          "output_type": "stream",
          "text": [
            "b:\n",
            "[[1. 2. 3.]]\n"
          ],
          "name": "stdout"
        }
      ]
    },
    {
      "cell_type": "markdown",
      "metadata": {
        "id": "Bh4ioPzO5W0N",
        "colab_type": "text"
      },
      "source": [
        "We'll now create a variable"
      ]
    },
    {
      "cell_type": "code",
      "metadata": {
        "id": "GTABMMZR5W0P",
        "colab_type": "code",
        "outputId": "c92c5b23-387a-4a1f-aa88-b5435dd8302a",
        "colab": {
          "base_uri": "https://localhost:8080/",
          "height": 34
        }
      },
      "source": [
        "var_init_value = [[2.0, 4.0, 6.0]]\n",
        "var = tf.get_variable(name='myvar',\n",
        "                      shape=[1, 3],\n",
        "                      dtype=tf.float32,\n",
        "                      initializer=tf.constant_initializer(var_init_value))\n",
        "\n",
        "print(var)"
      ],
      "execution_count": 76,
      "outputs": [
        {
          "output_type": "stream",
          "text": [
            "<tf.Variable 'myvar:0' shape=(1, 3) dtype=float32_ref>\n"
          ],
          "name": "stdout"
        }
      ]
    },
    {
      "cell_type": "markdown",
      "metadata": {
        "id": "FsikvaSl5W0V",
        "colab_type": "text"
      },
      "source": [
        "and check that it's been added to Tensorflow's variables list:"
      ]
    },
    {
      "cell_type": "code",
      "metadata": {
        "id": "pIOd1Cx7qFPD",
        "colab_type": "code",
        "colab": {
          "base_uri": "https://localhost:8080/",
          "height": 34
        },
        "outputId": "391c838f-7126-442e-f9a3-3bf94d4535ce"
      },
      "source": [
        "print(var)"
      ],
      "execution_count": 77,
      "outputs": [
        {
          "output_type": "stream",
          "text": [
            "<tf.Variable 'myvar:0' shape=(1, 3) dtype=float32_ref>\n"
          ],
          "name": "stdout"
        }
      ]
    },
    {
      "cell_type": "code",
      "metadata": {
        "id": "il6uT3dm5W0X",
        "colab_type": "code",
        "outputId": "2c8c1739-e6c3-4fc1-9d05-19eb35d8be4d",
        "colab": {
          "base_uri": "https://localhost:8080/",
          "height": 34
        }
      },
      "source": [
        "print(tf.global_variables())"
      ],
      "execution_count": 78,
      "outputs": [
        {
          "output_type": "stream",
          "text": [
            "[<tf.Variable 'myvar:0' shape=(1, 3) dtype=float32_ref>]\n"
          ],
          "name": "stdout"
        }
      ]
    },
    {
      "cell_type": "markdown",
      "metadata": {
        "id": "1VCBIugn5W0f",
        "colab_type": "text"
      },
      "source": [
        "We can do operations with the variable just like any other tensor:"
      ]
    },
    {
      "cell_type": "code",
      "metadata": {
        "id": "02Lr3FgF5W0j",
        "colab_type": "code",
        "outputId": "a68bf4d0-b843-4f9d-a523-281bd5c8b6dd",
        "colab": {
          "base_uri": "https://localhost:8080/",
          "height": 68
        }
      },
      "source": [
        "# can do operations\n",
        "c = b + var\n",
        "print(b)\n",
        "print(var)\n",
        "print(c)"
      ],
      "execution_count": 79,
      "outputs": [
        {
          "output_type": "stream",
          "text": [
            "Tensor(\"Const:0\", shape=(1, 3), dtype=float32)\n",
            "<tf.Variable 'myvar:0' shape=(1, 3) dtype=float32_ref>\n",
            "Tensor(\"add:0\", shape=(1, 3), dtype=float32)\n"
          ],
          "name": "stdout"
        }
      ]
    },
    {
      "cell_type": "markdown",
      "metadata": {
        "id": "XzBXuM235W0t",
        "colab_type": "text"
      },
      "source": [
        "Before we can run any of these operations, we must first initalize the variables"
      ]
    },
    {
      "cell_type": "code",
      "metadata": {
        "id": "LQ2bncI85W0u",
        "colab_type": "code",
        "colab": {}
      },
      "source": [
        "init_op = tf.global_variables_initializer()\n",
        "sess.run(init_op)"
      ],
      "execution_count": 0,
      "outputs": []
    },
    {
      "cell_type": "markdown",
      "metadata": {
        "id": "T7zq_N1q5W0z",
        "colab_type": "text"
      },
      "source": [
        "and then we can run the operations just as we normally would."
      ]
    },
    {
      "cell_type": "code",
      "metadata": {
        "id": "I3bPyYf35W01",
        "colab_type": "code",
        "outputId": "80c61e19-3edf-4038-c017-cf1ee29c889f",
        "colab": {
          "base_uri": "https://localhost:8080/",
          "height": 119
        }
      },
      "source": [
        "c_run = sess.run(c)\n",
        "\n",
        "print('b:\\n{0}'.format(b_run))\n",
        "print('var:\\n{0}'.format(var_init_value))\n",
        "print('c:\\n{0}'.format(c_run))"
      ],
      "execution_count": 81,
      "outputs": [
        {
          "output_type": "stream",
          "text": [
            "b:\n",
            "[[1. 2. 3.]]\n",
            "var:\n",
            "[[2.0, 4.0, 6.0]]\n",
            "c:\n",
            "[[3. 6. 9.]]\n"
          ],
          "name": "stdout"
        }
      ]
    },
    {
      "cell_type": "markdown",
      "metadata": {
        "id": "cXtcmqJ75W08",
        "colab_type": "text"
      },
      "source": [
        "So far we haven't said yet how to optimize these variables. We'll cover that next in the context of an example."
      ]
    },
    {
      "cell_type": "markdown",
      "metadata": {
        "id": "7p4udvdM5W09",
        "colab_type": "text"
      },
      "source": [
        "# 4. How to train a neural network for a simple regression problem\n",
        "\n",
        "We've discussed how to input data, perform operations, and create variables. We'll now show how to combine all of these---with some minor additions---to train a neural network on a simple regression problem."
      ]
    },
    {
      "cell_type": "markdown",
      "metadata": {
        "id": "j78g8L7i5W1A",
        "colab_type": "text"
      },
      "source": [
        "First, we'll create data for a 1-dimensional regression problem:"
      ]
    },
    {
      "cell_type": "code",
      "metadata": {
        "id": "Q5lao9cV5W1C",
        "colab_type": "code",
        "outputId": "a577dbe7-0bfa-438d-c739-92fd2a5de85f",
        "colab": {
          "base_uri": "https://localhost:8080/",
          "height": 286
        }
      },
      "source": [
        "# generate the data\n",
        "inputs = np.linspace(-2*np.pi, 2*np.pi, 10000)[:, None]\n",
        "outputs = np.sin(inputs) + 0.05 * np.random.normal(size=[len(inputs),1])\n",
        "\n",
        "plt.scatter(inputs[:, 0], outputs[:, 0], s=0.1, color='k', marker='o')"
      ],
      "execution_count": 83,
      "outputs": [
        {
          "output_type": "execute_result",
          "data": {
            "text/plain": [
              "<matplotlib.collections.PathCollection at 0x7f827d7554a8>"
            ]
          },
          "metadata": {
            "tags": []
          },
          "execution_count": 83
        },
        {
          "output_type": "display_data",
          "data": {
            "image/png": "[encoded data removed]",
            "text/plain": [
              "<Figure size 432x288 with 1 Axes>"
            ]
          },
          "metadata": {
            "tags": []
          }
        }
      ]
    },
    {
      "cell_type": "markdown",
      "metadata": {
        "id": "CK5pEMki5W1L",
        "colab_type": "text"
      },
      "source": [
        "The below code creates the inputs, variables, neural network operations, mean-squared-error loss, gradient descent optimizer, and runs the optimizer using minibatches of the data."
      ]
    },
    {
      "cell_type": "code",
      "metadata": {
        "id": "RlKjPnVz5W1M",
        "colab_type": "code",
        "outputId": "f256538b-a3d6-4f99-c796-a2734c0db9cf",
        "colab": {
          "base_uri": "https://localhost:8080/",
          "height": 187
        }
      },
      "source": [
        "sess = tf_reset()\n",
        "\n",
        "def create_model():\n",
        "    # create inputs and outputs\n",
        "    input_ph = tf.placeholder(dtype=tf.float32, shape=[None, 1])\n",
        "    output_ph = tf.placeholder(dtype=tf.float32, shape=[None, 1])\n",
        "\n",
        "    # create variables\n",
        "    W0 = tf.get_variable(name='W0', shape=[1, 20], initializer=tf.contrib.layers.xavier_initializer())\n",
        "    W1 = tf.get_variable(name='W1', shape=[20, 20], initializer=tf.contrib.layers.xavier_initializer())\n",
        "    W2 = tf.get_variable(name='W2', shape=[20, 1], initializer=tf.contrib.layers.xavier_initializer())\n",
        "\n",
        "    b0 = tf.get_variable(name='b0', shape=[20], initializer=tf.constant_initializer(0.))\n",
        "    b1 = tf.get_variable(name='b1', shape=[20], initializer=tf.constant_initializer(0.))\n",
        "    b2 = tf.get_variable(name='b2', shape=[1], initializer=tf.constant_initializer(0.))\n",
        "\n",
        "    weights = [W0, W1, W2]\n",
        "    biases = [b0, b1, b2]\n",
        "    activations = [tf.nn.relu, tf.nn.relu, None]\n",
        "\n",
        "    # create computation graph\n",
        "    layer = input_ph\n",
        "    for W, b, activation in zip(weights, biases, activations):\n",
        "        layer = tf.matmul(layer, W) + b\n",
        "        if activation is not None:\n",
        "            layer = activation(layer)\n",
        "    output_pred = layer\n",
        "\n",
        "    return input_ph, output_ph, output_pred\n",
        "    \n",
        "input_ph, output_ph, output_pred = create_model()\n",
        "    \n",
        "# create loss\n",
        "mse = tf.reduce_mean(0.5 * tf.square(output_pred - output_ph))\n",
        "\n",
        "# create optimizer\n",
        "opt = tf.train.AdamOptimizer().minimize(mse)\n",
        "\n",
        "# initialize variables\n",
        "sess.run(tf.global_variables_initializer())\n",
        "# create saver to save model variables\n",
        "saver = tf.train.Saver()\n",
        "\n",
        "# run training\n",
        "batch_size = 32\n",
        "for training_step in range(10000):\n",
        "    # get a random subset of the training data\n",
        "    indices = np.random.randint(low=0, high=len(inputs), size=batch_size)\n",
        "    input_batch = inputs[indices]\n",
        "    output_batch = outputs[indices]\n",
        "    \n",
        "    # run the optimizer and get the mse\n",
        "    _, mse_run = sess.run([opt, mse],\n",
        "                          feed_dict={input_ph: input_batch,\n",
        "                                     output_ph: output_batch})\n",
        "    \n",
        "    #just_run = sess.run(opt, feed_dict={input_ph: input_batch,\n",
        "    #                                   output_ph: output_batch})\n",
        "    \n",
        "    # print the mse every so often\n",
        "    if training_step % 1000 == 0:\n",
        "        print('{0:04d} mse: {1:.3f}'.format(training_step, mse_run))\n",
        "        saver.save(sess, '/tmp/model.ckpt')"
      ],
      "execution_count": 93,
      "outputs": [
        {
          "output_type": "stream",
          "text": [
            "0000 mse: 2.304\n",
            "1000 mse: 0.048\n",
            "2000 mse: 0.016\n",
            "3000 mse: 0.011\n",
            "4000 mse: 0.010\n",
            "5000 mse: 0.003\n",
            "6000 mse: 0.002\n",
            "7000 mse: 0.001\n",
            "8000 mse: 0.002\n",
            "9000 mse: 0.001\n"
          ],
          "name": "stdout"
        }
      ]
    },
    {
      "cell_type": "markdown",
      "metadata": {
        "id": "aP3o-lvt5W1R",
        "colab_type": "text"
      },
      "source": [
        "Now that the neural network is trained, we can use it to make predictions:"
      ]
    },
    {
      "cell_type": "code",
      "metadata": {
        "id": "K97amoS_5W1T",
        "colab_type": "code",
        "outputId": "f3b90282-4a18-430c-c6fb-9e8f475e843e",
        "colab": {
          "base_uri": "https://localhost:8080/",
          "height": 303
        }
      },
      "source": [
        "sess = tf_reset()\n",
        "\n",
        "# create the model\n",
        "input_ph, output_ph, output_pred = create_model()\n",
        "\n",
        "# restore the saved model\n",
        "saver = tf.train.Saver()\n",
        "saver.restore(sess, \"/tmp/model.ckpt\")\n",
        "\n",
        "output_pred_run = sess.run(output_pred, feed_dict={input_ph: inputs})\n",
        "\n",
        "plt.scatter(inputs[:, 0], outputs[:, 0], c='k', marker='o', s=0.1)\n",
        "plt.scatter(inputs[:, 0], output_pred_run[:, 0], c='r', marker='o', s=0.1)"
      ],
      "execution_count": 94,
      "outputs": [
        {
          "output_type": "stream",
          "text": [
            "INFO:tensorflow:Restoring parameters from /tmp/model.ckpt\n"
          ],
          "name": "stdout"
        },
        {
          "output_type": "execute_result",
          "data": {
            "text/plain": [
              "<matplotlib.collections.PathCollection at 0x7f8279d06860>"
            ]
          },
          "metadata": {
            "tags": []
          },
          "execution_count": 94
        },
        {
          "output_type": "display_data",
          "data": {
            "image/png": "[encoded data removed]",
            "text/plain": [
              "<Figure size 432x288 with 1 Axes>"
            ]
          },
          "metadata": {
            "tags": []
          }
        }
      ]
    },
    {
      "cell_type": "markdown",
      "metadata": {
        "id": "Lu9gJBuL5W1Y",
        "colab_type": "text"
      },
      "source": [
        "Not so hard after all! There is much more functionality to Tensorflow besides what we've covered, but you now know the basics."
      ]
    },
    {
      "cell_type": "markdown",
      "metadata": {
        "id": "zYD6j3kQ5W1a",
        "colab_type": "text"
      },
      "source": [
        "# 5. Tips and tricks"
      ]
    },
    {
      "cell_type": "markdown",
      "metadata": {
        "id": "rvjtyLFx5W1c",
        "colab_type": "text"
      },
      "source": [
        "##### (a) Check your dimensions"
      ]
    },
    {
      "cell_type": "code",
      "metadata": {
        "id": "WRQ8yBcq5W1e",
        "colab_type": "code",
        "colab": {}
      },
      "source": [
        "# example of \"surprising\" resulting dimensions due to broadcasting\n",
        "a = tf.constant(np.random.random((4, 1)))\n",
        "b = tf.constant(np.random.random((1, 4)))\n",
        "c = a * b\n",
        "assert c.get_shape() == (4, 4)"
      ],
      "execution_count": 0,
      "outputs": []
    },
    {
      "cell_type": "markdown",
      "metadata": {
        "id": "VkBEADZi5W1k",
        "colab_type": "text"
      },
      "source": [
        "##### (b) Check what variables have been created"
      ]
    },
    {
      "cell_type": "code",
      "metadata": {
        "id": "NpipGqs95W1p",
        "colab_type": "code",
        "outputId": "40b7304b-0894-42e3-fbb4-fcf608b23716",
        "colab": {
          "base_uri": "https://localhost:8080/",
          "height": 122
        }
      },
      "source": [
        "sess = tf_reset()\n",
        "a = tf.get_variable('I_am_a_variable', shape=[4, 6])\n",
        "b = tf.get_variable('I_am_a_variable_too', shape=[2, 7])\n",
        "for var in tf.global_variables():\n",
        "    print(var.name)"
      ],
      "execution_count": 52,
      "outputs": [
        {
          "output_type": "stream",
          "text": [
            "WARNING:tensorflow:From /usr/local/lib/python3.6/dist-packages/tensorflow/python/ops/init_ops.py:1251: calling VarianceScaling.__init__ (from tensorflow.python.ops.init_ops) with dtype is deprecated and will be removed in a future version.\n",
            "Instructions for updating:\n",
            "Call initializer instance with the dtype argument instead of passing it to the constructor\n",
            "I_am_a_variable:0\n",
            "I_am_a_variable_too:0\n"
          ],
          "name": "stdout"
        }
      ]
    },
    {
      "cell_type": "markdown",
      "metadata": {
        "id": "04Pc-AvP5W1u",
        "colab_type": "text"
      },
      "source": [
        "##### (c) Look at the [tensorflow API](https://www.tensorflow.org/api_docs/python/), or open up a python terminal and investigate!"
      ]
    },
    {
      "cell_type": "code",
      "metadata": {
        "id": "z8oT29YV5W1x",
        "colab_type": "code",
        "outputId": "898eaec7-daa5-45b5-9189-180e61335976",
        "colab": {
          "base_uri": "https://localhost:8080/",
          "height": 901
        }
      },
      "source": [
        "help(tf.reduce_mean)"
      ],
      "execution_count": 53,
      "outputs": [
        {
          "output_type": "stream",
          "text": [
            "Help on function reduce_mean_v1 in module tensorflow.python.ops.math_ops:\n",
            "\n",
            "reduce_mean_v1(input_tensor, axis=None, keepdims=None, name=None, reduction_indices=None, keep_dims=None)\n",
            "    Computes the mean of elements across dimensions of a tensor.\n",
            "    \n",
            "    Reduces `input_tensor` along the dimensions given in `axis`.\n",
            "    Unless `keepdims` is true, the rank of the tensor is reduced by 1 for each\n",
            "    entry in `axis`. If `keepdims` is true, the reduced dimensions\n",
            "    are retained with length 1.\n",
            "    \n",
            "    If `axis` is None, all dimensions are reduced, and a\n",
            "    tensor with a single element is returned.\n",
            "    \n",
            "    For example:\n",
            "    \n",
            "    ```python\n",
            "    x = tf.constant([[1., 1.], [2., 2.]])\n",
            "    tf.reduce_mean(x)  # 1.5\n",
            "    tf.reduce_mean(x, 0)  # [1.5, 1.5]\n",
            "    tf.reduce_mean(x, 1)  # [1.,  2.]\n",
            "    ```\n",
            "    \n",
            "    Args:\n",
            "      input_tensor: The tensor to reduce. Should have numeric type.\n",
            "      axis: The dimensions to reduce. If `None` (the default), reduces all\n",
            "        dimensions. Must be in the range `[-rank(input_tensor),\n",
            "        rank(input_tensor))`.\n",
            "      keepdims: If true, retains reduced dimensions with length 1.\n",
            "      name: A name for the operation (optional).\n",
            "      reduction_indices: The old (deprecated) name for axis.\n",
            "      keep_dims: Deprecated alias for `keepdims`.\n",
            "    \n",
            "    Returns:\n",
            "      The reduced tensor.\n",
            "    \n",
            "    @compatibility(numpy)\n",
            "    Equivalent to np.mean\n",
            "    \n",
            "    Please note that `np.mean` has a `dtype` parameter that could be used to\n",
            "    specify the output type. By default this is `dtype=float64`. On the other\n",
            "    hand, `tf.reduce_mean` has an aggressive type inference from `input_tensor`,\n",
            "    for example:\n",
            "    \n",
            "    ```python\n",
            "    x = tf.constant([1, 0, 1, 0])\n",
            "    tf.reduce_mean(x)  # 0\n",
            "    y = tf.constant([1., 0., 1., 0.])\n",
            "    tf.reduce_mean(y)  # 0.5\n",
            "    ```\n",
            "    \n",
            "    @end_compatibility\n",
            "\n"
          ],
          "name": "stdout"
        }
      ]
    },
    {
      "cell_type": "markdown",
      "metadata": {
        "id": "-An6D5Gw5W11",
        "colab_type": "text"
      },
      "source": [
        "##### (d) Tensorflow has some built-in layers to simplify your code."
      ]
    },
    {
      "cell_type": "code",
      "metadata": {
        "id": "iEwoP24B5W12",
        "colab_type": "code",
        "outputId": "1f2d5261-2e20-4dd5-ee5c-d72cbb89204b",
        "colab": {
          "base_uri": "https://localhost:8080/",
          "height": 819
        }
      },
      "source": [
        "help(tf.contrib.layers.fully_connected)"
      ],
      "execution_count": 54,
      "outputs": [
        {
          "output_type": "stream",
          "text": [
            "Help on function fully_connected in module tensorflow.contrib.layers.python.layers.layers:\n",
            "\n",
            "fully_connected(inputs, num_outputs, activation_fn=<function relu at 0x7f829a9a3950>, normalizer_fn=None, normalizer_params=None, weights_initializer=<function variance_scaling_initializer.<locals>._initializer at 0x7f8288476ae8>, weights_regularizer=None, biases_initializer=<tensorflow.python.ops.init_ops.Zeros object at 0x7f828846e358>, biases_regularizer=None, reuse=None, variables_collections=None, outputs_collections=None, trainable=True, scope=None)\n",
            "    Adds a fully connected layer.\n",
            "    \n",
            "    `fully_connected` creates a variable called `weights`, representing a fully\n",
            "    connected weight matrix, which is multiplied by the `inputs` to produce a\n",
            "    `Tensor` of hidden units. If a `normalizer_fn` is provided (such as\n",
            "    `batch_norm`), it is then applied. Otherwise, if `normalizer_fn` is\n",
            "    None and a `biases_initializer` is provided then a `biases` variable would be\n",
            "    created and added the hidden units. Finally, if `activation_fn` is not `None`,\n",
            "    it is applied to the hidden units as well.\n",
            "    \n",
            "    Note: that if `inputs` have a rank greater than 2, then `inputs` is flattened\n",
            "    prior to the initial matrix multiply by `weights`.\n",
            "    \n",
            "    Args:\n",
            "      inputs: A tensor of at least rank 2 and static value for the last dimension;\n",
            "        i.e. `[batch_size, depth]`, `[None, None, None, channels]`.\n",
            "      num_outputs: Integer or long, the number of output units in the layer.\n",
            "      activation_fn: Activation function. The default value is a ReLU function.\n",
            "        Explicitly set it to None to skip it and maintain a linear activation.\n",
            "      normalizer_fn: Normalization function to use instead of `biases`. If\n",
            "        `normalizer_fn` is provided then `biases_initializer` and\n",
            "        `biases_regularizer` are ignored and `biases` are not created nor added.\n",
            "        default set to None for no normalizer function\n",
            "      normalizer_params: Normalization function parameters.\n",
            "      weights_initializer: An initializer for the weights.\n",
            "      weights_regularizer: Optional regularizer for the weights.\n",
            "      biases_initializer: An initializer for the biases. If None skip biases.\n",
            "      biases_regularizer: Optional regularizer for the biases.\n",
            "      reuse: Whether or not the layer and its variables should be reused. To be\n",
            "        able to reuse the layer scope must be given.\n",
            "      variables_collections: Optional list of collections for all the variables or\n",
            "        a dictionary containing a different list of collections per variable.\n",
            "      outputs_collections: Collection to add the outputs.\n",
            "      trainable: If `True` also add variables to the graph collection\n",
            "        `GraphKeys.TRAINABLE_VARIABLES` (see tf.Variable).\n",
            "      scope: Optional scope for variable_scope.\n",
            "    \n",
            "    Returns:\n",
            "       The tensor variable representing the result of the series of operations.\n",
            "    \n",
            "    Raises:\n",
            "      ValueError: If x has rank less than 2 or if its last dimension is not set.\n",
            "\n"
          ],
          "name": "stdout"
        }
      ]
    },
    {
      "cell_type": "markdown",
      "metadata": {
        "id": "UHyvPAzg5W17",
        "colab_type": "text"
      },
      "source": [
        "##### (e) Use [variable scope](https://www.tensorflow.org/guide/variables#sharing_variables) to keep your variables organized."
      ]
    },
    {
      "cell_type": "code",
      "metadata": {
        "id": "FWF_LgiR5W18",
        "colab_type": "code",
        "outputId": "5e98c46e-66da-4c8e-aa6a-2c1942ea3213",
        "colab": {
          "base_uri": "https://localhost:8080/",
          "height": 119
        }
      },
      "source": [
        "sess = tf_reset()\n",
        "\n",
        "# create variables\n",
        "with tf.variable_scope('layer_0'):\n",
        "    W0 = tf.get_variable(name='W0', shape=[1, 20], initializer=tf.contrib.layers.xavier_initializer())\n",
        "    b0 = tf.get_variable(name='b0', shape=[20], initializer=tf.constant_initializer(0.))\n",
        "\n",
        "with tf.variable_scope('layer_1'):\n",
        "    W1 = tf.get_variable(name='W1', shape=[20, 20], initializer=tf.contrib.layers.xavier_initializer())\n",
        "    b1 = tf.get_variable(name='b1', shape=[20], initializer=tf.constant_initializer(0.))\n",
        "    \n",
        "with tf.variable_scope('layer_2'):\n",
        "    W2 = tf.get_variable(name='W2', shape=[20, 1], initializer=tf.contrib.layers.xavier_initializer())\n",
        "    b2 = tf.get_variable(name='b2', shape=[1], initializer=tf.constant_initializer(0.))\n",
        "\n",
        "# print the variables\n",
        "var_names = sorted([v.name for v in tf.global_variables()])\n",
        "print('\\n'.join(var_names))"
      ],
      "execution_count": 55,
      "outputs": [
        {
          "output_type": "stream",
          "text": [
            "layer_0/W0:0\n",
            "layer_0/b0:0\n",
            "layer_1/W1:0\n",
            "layer_1/b1:0\n",
            "layer_2/W2:0\n",
            "layer_2/b2:0\n"
          ],
          "name": "stdout"
        }
      ]
    },
    {
      "cell_type": "markdown",
      "metadata": {
        "id": "ACpiTMbr5W2A",
        "colab_type": "text"
      },
      "source": [
        "##### (f) You can specify which GPU you want to use and how much memory you want to use"
      ]
    },
    {
      "cell_type": "code",
      "metadata": {
        "id": "7-2FZVxx5W2C",
        "colab_type": "code",
        "colab": {}
      },
      "source": [
        "gpu_device = 0\n",
        "gpu_frac = 0.5\n",
        "\n",
        "# make only one of the GPUs visible\n",
        "import os\n",
        "os.environ[\"CUDA_VISIBLE_DEVICES\"] = str(gpu_device)\n",
        "\n",
        "# only use part of the GPU memory\n",
        "gpu_options = tf.GPUOptions(per_process_gpu_memory_fraction=gpu_frac)\n",
        "config = tf.ConfigProto(gpu_options=gpu_options)\n",
        "\n",
        "# create the session\n",
        "tf_sess = tf.Session(graph=tf.Graph(), config=config)"
      ],
      "execution_count": 0,
      "outputs": []
    },
    {
      "cell_type": "markdown",
      "metadata": {
        "id": "twkruuVu5W2G",
        "colab_type": "text"
      },
      "source": [
        "##### (g) You can use [tensorboard](https://www.tensorflow.org/guide/summaries_and_tensorboard) to visualize and monitor the training process."
      ]
    }
  ]
}