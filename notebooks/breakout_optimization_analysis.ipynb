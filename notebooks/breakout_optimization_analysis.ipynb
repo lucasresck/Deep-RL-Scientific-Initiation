{
  "nbformat": 4,
  "nbformat_minor": 0,
  "metadata": {
    "colab": {
      "name": "breakout_optimization_analysis.ipynb",
      "provenance": [],
      "collapsed_sections": [],
      "toc_visible": true,
      "authorship_tag": "ABX9TyMaf1RFsL5eh087kInPoTDA",
      "include_colab_link": true
    },
    "kernelspec": {
      "name": "python3",
      "display_name": "Python 3"
    },
    "accelerator": "GPU"
  },
  "cells": [
    {
      "cell_type": "markdown",
      "metadata": {
        "id": "view-in-github",
        "colab_type": "text"
      },
      "source": [
        "<a href=\"https://colab.research.google.com/github/lucasresck/deep-reinforcement-learning/blob/master/notebooks/breakout_optimization_analysis.ipynb\" target=\"_parent\"><img src=\"https://colab.research.google.com/assets/colab-badge.svg\" alt=\"Open In Colab\"/></a>"
      ]
    },
    {
      "cell_type": "markdown",
      "metadata": {
        "id": "gVSmzqpOnBxi",
        "colab_type": "text"
      },
      "source": [
        "# Breakout optimization analysis"
      ]
    },
    {
      "cell_type": "markdown",
      "metadata": {
        "id": "Kj8dGruzWjQc",
        "colab_type": "text"
      },
      "source": [
        "## Original code"
      ]
    },
    {
      "cell_type": "code",
      "metadata": {
        "id": "wNRnCLPlWmu-",
        "colab_type": "code",
        "colab": {
          "base_uri": "https://localhost:8080/",
          "height": 0
        },
        "outputId": "22470b4d-7961-4f1e-b250-be9487f90a6f"
      },
      "source": [
        "# Inspired by 'Playing Atari with Deep Reinforcement Learning' (https://arxiv.org/abs/1312.5602)\n",
        "\n",
        "from collections import deque\n",
        "from gym import wrappers\n",
        "from keras.layers import Dense\n",
        "from keras.models import load_model, Sequential\n",
        "from keras.optimizers import Adam\n",
        "import argparse\n",
        "import gym\n",
        "import numpy as np\n",
        "import os\n",
        "import pickle\n",
        "import random\n",
        "import tensorflow as tf\n",
        "import time\n",
        "\n",
        "\n",
        "class NeuralNetwork():\n",
        "    def __init__(self, input_shape, action_size, learning_rate=0.001):\n",
        "        self.input_shape = input_shape\n",
        "        self.action_size = action_size\n",
        "        self.learning_rate = learning_rate\n",
        "        self.model = self.model_of_network()\n",
        "\n",
        "    def model_of_network(self):\n",
        "        model = tf.keras.Sequential([\n",
        "            tf.keras.layers.Conv2D(\n",
        "                filters=16,\n",
        "                kernel_size=8,\n",
        "                input_shape=self.input_shape\n",
        "            ),\n",
        "            tf.keras.layers.MaxPooling2D(),\n",
        "            tf.keras.layers.Conv2D(\n",
        "                filters=16,\n",
        "                kernel_size=4\n",
        "            ),\n",
        "            tf.keras.layers.MaxPooling2D(),\n",
        "            tf.keras.layers.Flatten(),\n",
        "            tf.keras.layers.Dense(\n",
        "                units=128,\n",
        "                activation='relu'\n",
        "            ),\n",
        "            tf.keras.layers.Dense(\n",
        "                units=self.action_size,\n",
        "                activation='linear'\n",
        "            )\n",
        "        ])\n",
        "        print(model.summary())\n",
        "        model.compile(loss='mean_squared_error', optimizer=tf.keras.optimizers.RMSprop(learning_rate=self.learning_rate))\n",
        "        return model\n",
        "\n",
        "\n",
        "class DeepQAgent():\n",
        "    def __init__(\n",
        "        self,\n",
        "        record,\n",
        "        env_name='Breakout-v0',\n",
        "        gamma=0.999,\n",
        "        max_frames=1000,\n",
        "        max_iterations=1000000,\n",
        "        epsilon_decay_until=100000,\n",
        "        epsilon_min=0.1,\n",
        "        replay_memory_capacity=100000,\n",
        "        minibatch_size=32,\n",
        "        nn_input_shape=(80, 80, 4),\n",
        "        n_history = 4\n",
        "    ):\n",
        "        self.env = gym.make(env_name)\n",
        "        if record:\n",
        "            self.env = wrappers.Monitor(self.env, os.path.join(os.getcwd(), 'videos', str(time.time())))\n",
        "        self.set_seeds(int(time.time()))\n",
        "        self.gamma = gamma\n",
        "        self.max_frames = max_frames\n",
        "        self.max_iterations = max_iterations\n",
        "        self.obs_shape = self.env.observation_space.shape\n",
        "        self.action_size = self.env.env.action_space.n\n",
        "        self.epsilon = 1.0\n",
        "        self.epsilon_decay_until = epsilon_decay_until\n",
        "        self.epsilon_min = epsilon_min\n",
        "        self.replay_memory_capacity = replay_memory_capacity\n",
        "        self.minibatch_size = minibatch_size\n",
        "        self.nn_input_shape = nn_input_shape\n",
        "        self.neural_network = NeuralNetwork(self.nn_input_shape, self.action_size)\n",
        "        self.n_history = n_history\n",
        "        self.history = deque(maxlen=self.n_history)\n",
        "\n",
        "    def set_seeds(self, seed):\n",
        "        \"\"\"Set random seeds using current time.\"\"\"\n",
        "        self.env.seed(seed)\n",
        "        np.random.seed(seed)\n",
        "        random.seed(seed)\n",
        "\n",
        "    def train(self):\n",
        "        \"\"\"Train deep Q-learning agent.\"\"\"\n",
        "        self.start_time = time.time()\n",
        "        self.deep_q_learning()\n",
        "\n",
        "    def deep_q_learning(self):\n",
        "        \"\"\"\n",
        "        Deep Q-learning algorithm.\n",
        "        It learns the Q function without knowing the transition probabilities, through deep neural networks.\n",
        "        \"\"\"\n",
        "        self.replay_memory = deque(maxlen=self.replay_memory_capacity)\n",
        "        self.target_network = NeuralNetwork(self.nn_input_shape, self.action_size)\n",
        "        self.target_network.model.set_weights(self.neural_network.model.get_weights())\n",
        "\n",
        "        episode = 0\n",
        "        self.i_frames = 0\n",
        "        while self.i_frames < self.max_frames:\n",
        "            if self.train_episode(episode):\n",
        "                break\n",
        "            # if (episode + 1) % 50 == 0:\n",
        "            #     self.sample(1)\n",
        "            episode += 1\n",
        "\n",
        "        self.env.close()\n",
        "\n",
        "    def train_episode(self, episode):\n",
        "        \"\"\"Train one episode of deep Q-learning.\"\"\"\n",
        "        self.history = deque(maxlen=self.n_history)\n",
        "        obs = self.env.reset()\n",
        "        state = self.preprocess(obs)\n",
        "        self.i_frames += 1\n",
        "        total_reward = 0\n",
        "        for i in range(self.max_iterations):\n",
        "            action = self.take_action(state)\n",
        "            obs, reward, done, _ = self.env.step(action)\n",
        "            state_ = self.preprocess(obs)\n",
        "            self.replay_memory.append([state, action, reward, state_, done])\n",
        "            self.train_from_replay()\n",
        "            state = state_\n",
        "            total_reward += reward\n",
        "            self.i_frames += 1\n",
        "            # self.env.render()\n",
        "            if self.i_frames >= self.max_frames:  # Max frames\n",
        "                return True\n",
        "            if done:\n",
        "                break\n",
        "        self.report(i, episode, total_reward)\n",
        "        self.sync_networks()\n",
        "        return False\n",
        "\n",
        "    def preprocess(self, obs):\n",
        "        \"\"\"Preprocess observation.\"\"\"\n",
        "        gray = self.gray(obs)\n",
        "        img = self.cut(gray)\n",
        "        img = self.resize(img)\n",
        "        state = self.create_state(img)\n",
        "        return state\n",
        "\n",
        "    def gray(self, obs):\n",
        "        return np.mean(obs, axis=2)\n",
        "\n",
        "    def cut(self, gray):\n",
        "        img = gray[32:, :]\n",
        "        x, y = img.shape\n",
        "        img = img[:-np.abs(x-y), :]\n",
        "        return img\n",
        "    \n",
        "    def resize(self, img):\n",
        "        new_img = np.zeros((int(np.ceil(img.shape[0]/2)), int(np.ceil(img.shape[1]/2))))\n",
        "        for i in range(int(np.ceil(img.shape[0]/2))):\n",
        "            for j in range(int(np.ceil(img.shape[1]/2))):\n",
        "                new_img[i, j] = np.max(img[2*i:2*i+2, 2*j:2*j+2])\n",
        "        img = new_img\n",
        "        img = img.reshape(img.shape[0], img.shape[1], 1)\n",
        "        return img\n",
        "\n",
        "    def create_state(self, img):\n",
        "        self.history.append(img)\n",
        "        state = np.concatenate(tuple(self.history), axis=2)\n",
        "        for _ in range(self.n_history - state.shape[2]):\n",
        "            state = np.concatenate((state, self.history[-1]), axis=2)  \n",
        "        return state\n",
        "\n",
        "    def take_action(self, state):\n",
        "        \"\"\"\n",
        "        Take action based in epsilon-greedy algorithm.\n",
        "        With small probabily, take a random action;\n",
        "        otherwise, take the action from the neural network.\n",
        "        \"\"\"\n",
        "        self.update_epsilon()\n",
        "        if np.random.rand() < self.epsilon:\n",
        "            action = np.random.choice(self.action_size)\n",
        "        else:\n",
        "            output = self.compute_values(state)\n",
        "            action = np.argmax(output)\n",
        "        return action\n",
        "\n",
        "    def update_epsilon(self):\n",
        "        \"\"\"Update epsilon for epsilon-greedy algorithm.\"\"\"\n",
        "        epsilon = 1 + (self.i_frames * self.epsilon_min - self.i_frames) / self.epsilon_decay_until\n",
        "        self.epsilon = np.max([self.epsilon_min, epsilon])\n",
        "\n",
        "    def compute_values(self, state):\n",
        "        \"\"\"Compute values of a state.\"\"\"\n",
        "        logits = self.neural_network.model.predict(state[None, :])\n",
        "        return logits[0, :]\n",
        "\n",
        "    def train_from_replay(self):\n",
        "        \"\"\"Train neural network from samples of replay memory.\"\"\"\n",
        "        if len(self.replay_memory) < self.minibatch_size:\n",
        "            # If there isn't enough samples\n",
        "            return\n",
        "        minibatch = random.sample(self.replay_memory, self.minibatch_size)\n",
        "        states, states_ = self.extract_states(minibatch)\n",
        "        targets = self.calculate_targets(minibatch, states, states_)\n",
        "        self.fit(states, targets)\n",
        "\n",
        "    def extract_states(self, minibatch):\n",
        "        states = []\n",
        "        states_ = []\n",
        "        for sample in minibatch:\n",
        "            state, action, reward, state_, done = sample\n",
        "            states.append(state)\n",
        "            states_.append(state_)\n",
        "        states = np.array(states)\n",
        "        states_ = np.array(states_)\n",
        "        return states, states_\n",
        "\n",
        "    def calculate_targets(self, minibatch, states, states_):\n",
        "        targets, targets_ = self.target_predict(states, states_)\n",
        "        for i, sample in enumerate(minibatch):\n",
        "            state, action, reward, state_, done = sample\n",
        "            if done:\n",
        "                targets[i][action] = reward\n",
        "            else:\n",
        "                targets[i][action] = reward + self.gamma * np.max(targets_[i])\n",
        "        return targets\n",
        "\n",
        "    def target_predict(self, states, states_):\n",
        "        targets = self.neural_network.model.predict(states)\n",
        "        targets_ = self.target_network.model.predict(states_)\n",
        "        return targets, targets_\n",
        "\n",
        "    def fit(self, states, targets):\n",
        "        self.neural_network.model.fit(\n",
        "            x=states,\n",
        "            y=targets,\n",
        "            verbose=0\n",
        "        )\n",
        "\n",
        "    def report(self, i, episode, total_reward):\n",
        "        \"\"\"Show status on console.\"\"\"\n",
        "        time_now = (time.time() - self.start_time) / 60\n",
        "        print('Ep. {}. Reward = {}, epsilon = {}, time = {:.2f}min'.format(episode, total_reward, self.epsilon, time_now), end='\\n\\n')\n",
        "\n",
        "    def sync_networks(self):\n",
        "        \"\"\"Sync original and target neural networks.\"\"\"\n",
        "        self.target_network.model.set_weights(self.neural_network.model.get_weights())\n",
        "\n",
        "    def sample_experience(self):\n",
        "        \"\"\"Sample experience from replay memory.\"\"\"\n",
        "        return self.replay_memory[np.random.choice(len(self.replay_memory))]\n",
        "\n",
        "    def save_network(self, network_path):\n",
        "        \"\"\"Save the network in order to run it faster.\"\"\"\n",
        "        os.makedirs(os.path.dirname(network_path), exist_ok=True)\n",
        "        self.neural_network.model.save(network_path)\n",
        "        print('Neural network saved.', end='\\n\\n')\n",
        "\n",
        "    def load_network(self, network_path):\n",
        "        \"\"\"Load the network in order to run it faster.\"\"\"\n",
        "        self.neural_network.model = load_model(network_path)\n",
        "        print('Neural network loaded.', end='\\n\\n')\n",
        "\n",
        "    def sample(self, n):\n",
        "        \"\"\"Sample the network.\"\"\"\n",
        "        print('Sampling network:')\n",
        "        for _ in range(n):\n",
        "            self.run_episode(render=True)\n",
        "        print()\n",
        "\n",
        "    def run_episode(self, render=False):\n",
        "        \"\"\"Run one episode for our network.\"\"\"\n",
        "        obs = self.env.reset()\n",
        "        total_reward = 0\n",
        "        for _ in range(self.max_iterations):\n",
        "            state = self.normalize_obs(obs)\n",
        "            action = self.which_action(state)\n",
        "            obs, reward, done, _ = self.env.step(action)\n",
        "            total_reward += reward\n",
        "            if render:\n",
        "                self.env.render()\n",
        "            if done:\n",
        "                break\n",
        "        self.env.close()\n",
        "        print('Reward: ', total_reward)\n",
        "\n",
        "    def which_action(self, state):\n",
        "        \"\"\"Select which is the best action based on the network.\"\"\"\n",
        "        return np.argmax(self.compute_values(state))\n",
        "\n",
        "\n",
        "def main():    \n",
        "    # parser = argparse.ArgumentParser()\n",
        "    # parser.add_argument('--run', action='store_true')\n",
        "    # parser.add_argument('--record', action='store_true')\n",
        "    # args = parser.parse_args()\n",
        "    # args.record = False\n",
        "    agent = DeepQAgent(False)#args.record)\n",
        "    # if args.run:\n",
        "    #     agent.load_network('data/deep_q_learning.h5')\n",
        "    #     agent.sample(5)\n",
        "    # else:\n",
        "    agent.train()\n",
        "    agent.save_network('data/deep_q_learning.h5')\n"
      ],
      "execution_count": 1,
      "outputs": [
        {
          "output_type": "stream",
          "text": [
            "Using TensorFlow backend.\n"
          ],
          "name": "stderr"
        },
        {
          "output_type": "display_data",
          "data": {
            "text/html": [
              "<p style=\"color: red;\">\n",
              "The default version of TensorFlow in Colab will soon switch to TensorFlow 2.x.<br>\n",
              "We recommend you <a href=\"https://www.tensorflow.org/guide/migrate\" target=\"_blank\">upgrade</a> now \n",
              "or ensure your notebook will continue to use TensorFlow 1.x via the <code>%tensorflow_version 1.x</code> magic:\n",
              "<a href=\"https://colab.research.google.com/notebooks/tensorflow_version.ipynb\" target=\"_blank\">more info</a>.</p>\n"
            ],
            "text/plain": [
              "<IPython.core.display.HTML object>"
            ]
          },
          "metadata": {
            "tags": []
          }
        }
      ]
    },
    {
      "cell_type": "markdown",
      "metadata": {
        "id": "cNs03YwEVMLD",
        "colab_type": "text"
      },
      "source": [
        "## Stats generation"
      ]
    },
    {
      "cell_type": "code",
      "metadata": {
        "id": "XvSgDlk3MYhS",
        "colab_type": "code",
        "outputId": "0091865e-3a9a-41ed-bd59-0c6d1fa11409",
        "colab": {
          "base_uri": "https://localhost:8080/",
          "height": 1000
        }
      },
      "source": [
        "import cProfile\n",
        "cProfile.run('main()', 'breakout-colab-gpu-stats')"
      ],
      "execution_count": 2,
      "outputs": [
        {
          "output_type": "stream",
          "text": [
            "WARNING:tensorflow:From /tensorflow-1.15.0/python3.6/tensorflow_core/python/ops/resource_variable_ops.py:1630: calling BaseResourceVariable.__init__ (from tensorflow.python.ops.resource_variable_ops) with constraint is deprecated and will be removed in a future version.\n",
            "Instructions for updating:\n",
            "If using Keras pass *_constraint arguments to layers.\n",
            "Model: \"sequential\"\n",
            "_________________________________________________________________\n",
            "Layer (type)                 Output Shape              Param #   \n",
            "=================================================================\n",
            "conv2d (Conv2D)              (None, 73, 73, 16)        4112      \n",
            "_________________________________________________________________\n",
            "max_pooling2d (MaxPooling2D) (None, 36, 36, 16)        0         \n",
            "_________________________________________________________________\n",
            "conv2d_1 (Conv2D)            (None, 33, 33, 16)        4112      \n",
            "_________________________________________________________________\n",
            "max_pooling2d_1 (MaxPooling2 (None, 16, 16, 16)        0         \n",
            "_________________________________________________________________\n",
            "flatten (Flatten)            (None, 4096)              0         \n",
            "_________________________________________________________________\n",
            "dense (Dense)                (None, 128)               524416    \n",
            "_________________________________________________________________\n",
            "dense_1 (Dense)              (None, 4)                 516       \n",
            "=================================================================\n",
            "Total params: 533,156\n",
            "Trainable params: 533,156\n",
            "Non-trainable params: 0\n",
            "_________________________________________________________________\n",
            "None\n",
            "Model: \"sequential_1\"\n",
            "_________________________________________________________________\n",
            "Layer (type)                 Output Shape              Param #   \n",
            "=================================================================\n",
            "conv2d_2 (Conv2D)            (None, 73, 73, 16)        4112      \n",
            "_________________________________________________________________\n",
            "max_pooling2d_2 (MaxPooling2 (None, 36, 36, 16)        0         \n",
            "_________________________________________________________________\n",
            "conv2d_3 (Conv2D)            (None, 33, 33, 16)        4112      \n",
            "_________________________________________________________________\n",
            "max_pooling2d_3 (MaxPooling2 (None, 16, 16, 16)        0         \n",
            "_________________________________________________________________\n",
            "flatten_1 (Flatten)          (None, 4096)              0         \n",
            "_________________________________________________________________\n",
            "dense_2 (Dense)              (None, 128)               524416    \n",
            "_________________________________________________________________\n",
            "dense_3 (Dense)              (None, 4)                 516       \n",
            "=================================================================\n",
            "Total params: 533,156\n",
            "Trainable params: 533,156\n",
            "Non-trainable params: 0\n",
            "_________________________________________________________________\n",
            "None\n",
            "Ep. 0. Reward = 0.0, epsilon = 0.998533, time = 0.20min\n",
            "\n",
            "Ep. 1. Reward = 1.0, epsilon = 0.996652, time = 0.42min\n",
            "\n",
            "Ep. 2. Reward = 3.0, epsilon = 0.993718, time = 0.75min\n",
            "\n",
            "Neural network saved.\n",
            "\n"
          ],
          "name": "stdout"
        }
      ]
    },
    {
      "cell_type": "markdown",
      "metadata": {
        "id": "pstWo41uVSGJ",
        "colab_type": "text"
      },
      "source": [
        "## Stats visualization"
      ]
    },
    {
      "cell_type": "code",
      "metadata": {
        "colab_type": "code",
        "outputId": "68cc2d9b-627f-45ce-bfdf-2fe476640717",
        "id": "DJ_27lyZMW0E",
        "colab": {
          "base_uri": "https://localhost:8080/",
          "height": 476
        }
      },
      "source": [
        "import pstats\n",
        "p = pstats.Stats('breakout-colab-gpu-stats')\n",
        "p.strip_dirs().sort_stats('cumulative').print_stats('ipython', 15)"
      ],
      "execution_count": 3,
      "outputs": [
        {
          "output_type": "stream",
          "text": [
            "Sun Mar 22 00:29:50 2020    breakout-colab-gpu-stats\n",
            "\n",
            "         62037922 function calls (61857579 primitive calls) in 63.844 seconds\n",
            "\n",
            "   Ordered by: cumulative time\n",
            "   List reduced from 2069 to 24 due to restriction <'ipython'>\n",
            "   List reduced from 24 to 15 due to restriction <15>\n",
            "\n",
            "   ncalls  tottime  percall  cumtime  percall filename:lineno(function)\n",
            "        1    0.000    0.000   63.843   63.843 <ipython-input-1-ec5ea6e0964c>:294(main)\n",
            "        1    0.000    0.000   63.168   63.168 <ipython-input-1-ec5ea6e0964c>:92(train)\n",
            "        1    0.000    0.000   63.168   63.168 <ipython-input-1-ec5ea6e0964c>:97(deep_q_learning)\n",
            "        4    0.052    0.013   62.288   15.572 <ipython-input-1-ec5ea6e0964c>:117(train_episode)\n",
            "     1000    0.005    0.000   41.041    0.041 <ipython-input-1-ec5ea6e0964c>:142(preprocess)\n",
            "     1000    7.254    0.007   40.239    0.040 <ipython-input-1-ec5ea6e0964c>:159(resize)\n",
            "      996    0.009    0.000   20.452    0.021 <ipython-input-1-ec5ea6e0964c>:199(train_from_replay)\n",
            "      965    0.137    0.000   10.460    0.011 <ipython-input-1-ec5ea6e0964c>:220(calculate_targets)\n",
            "      965    0.006    0.000   10.132    0.010 <ipython-input-1-ec5ea6e0964c>:230(target_predict)\n",
            "      965    0.003    0.000    8.034    0.008 <ipython-input-1-ec5ea6e0964c>:235(fit)\n",
            "      965    0.019    0.000    1.874    0.002 <ipython-input-1-ec5ea6e0964c>:209(extract_states)\n",
            "     1000    0.002    0.000    0.719    0.001 <ipython-input-1-ec5ea6e0964c>:150(gray)\n",
            "        1    0.000    0.000    0.594    0.594 <ipython-input-1-ec5ea6e0964c>:53(__init__)\n",
            "        2    0.000    0.000    0.348    0.174 <ipython-input-1-ec5ea6e0964c>:18(__init__)\n",
            "        2    0.000    0.000    0.348    0.174 <ipython-input-1-ec5ea6e0964c>:24(model_of_network)\n",
            "\n",
            "\n"
          ],
          "name": "stdout"
        },
        {
          "output_type": "execute_result",
          "data": {
            "text/plain": [
              "<pstats.Stats at 0x7fb2f0057eb8>"
            ]
          },
          "metadata": {
            "tags": []
          },
          "execution_count": 3
        }
      ]
    },
    {
      "cell_type": "markdown",
      "metadata": {
        "id": "EyS8KShhVsLJ",
        "colab_type": "text"
      },
      "source": [
        "We have a problem with preprocess function, in special the resize function."
      ]
    },
    {
      "cell_type": "markdown",
      "metadata": {
        "id": "Um7DHGBeg527",
        "colab_type": "text"
      },
      "source": [
        "## Visualize states"
      ]
    },
    {
      "cell_type": "markdown",
      "metadata": {
        "id": "kDBm__1GhRPv",
        "colab_type": "text"
      },
      "source": [
        "Let's see what our network is seeing."
      ]
    },
    {
      "cell_type": "markdown",
      "metadata": {
        "id": "-Nx0f-pvhaxo",
        "colab_type": "text"
      },
      "source": [
        "### The treated images"
      ]
    },
    {
      "cell_type": "code",
      "metadata": {
        "id": "Nh1SDwrymHws",
        "colab_type": "code",
        "outputId": "9eb5288f-65a4-48bf-f0f6-20ef0cee86f8",
        "colab": {
          "base_uri": "https://localhost:8080/",
          "height": 1000
        }
      },
      "source": [
        "from collections import deque\n",
        "import numpy as np\n",
        "import matplotlib.pyplot as plt\n",
        "import gym\n",
        "\n",
        "n_history = 4\n",
        "history = deque(maxlen=n_history)\n",
        "\n",
        "def preprocess(obs):\n",
        "    \"\"\"Preprocess observation.\"\"\"\n",
        "    gray = gray_f(obs)\n",
        "    img = cut_f(gray)\n",
        "    img = resize_f(img)\n",
        "    state = create_state(img)\n",
        "    return state, img\n",
        "\n",
        "def gray_f(obs):\n",
        "    return np.mean(obs, axis=2)\n",
        "\n",
        "def cut_f(gray):\n",
        "    img = gray[32:, :]\n",
        "    x, y = img.shape\n",
        "    img = img[:-np.abs(x-y), :]\n",
        "    return img\n",
        "\n",
        "def resize_f(img):\n",
        "    new_img = np.zeros((int(np.ceil(img.shape[0]/2)), int(np.ceil(img.shape[1]/2))))\n",
        "    for i in range(int(np.ceil(img.shape[0]/2))):\n",
        "        for j in range(int(np.ceil(img.shape[1]/2))):\n",
        "            new_img[i, j] = np.max(img[2*i:2*i+2, 2*j:2*j+2])\n",
        "    img = new_img\n",
        "    img = img.reshape(img.shape[0], img.shape[1], 1)\n",
        "    return img\n",
        "\n",
        "def create_state(img):\n",
        "    history.append(img)\n",
        "    state = np.concatenate(tuple(history), axis=2)\n",
        "    for _ in range(n_history - state.shape[2]):\n",
        "        state = np.concatenate((state, history[-1]), axis=2)  \n",
        "    return state\n",
        "\n",
        "env = gym.make('Breakout-v0')\n",
        "obs = env.reset()\n",
        "fig, ax = plt.subplots(5, 2, figsize=(15, 40))\n",
        "for i in range(10):\n",
        "    obs, r, done, _ =  env.step(env.action_space.sample())\n",
        "    state, img = preprocess(obs)\n",
        "    ax.reshape(10)[i].imshow(img.reshape(80, 80), cmap='gray')\n",
        "plt.show()"
      ],
      "execution_count": 4,
      "outputs": [
        {
          "output_type": "display_data",
          "data": {
            "image/png": "[encoded data removed]",
            "text/plain": [
              "<Figure size 1080x2880 with 10 Axes>"
            ]
          },
          "metadata": {
            "tags": []
          }
        }
      ]
    },
    {
      "cell_type": "markdown",
      "metadata": {
        "id": "bIiSIkfVhgr6",
        "colab_type": "text"
      },
      "source": [
        "### What the network sees"
      ]
    },
    {
      "cell_type": "code",
      "metadata": {
        "id": "pgxeVmXEQOSA",
        "colab_type": "code",
        "outputId": "2b16de13-1d47-445e-fd6b-cbb8c11cf791",
        "colab": {
          "base_uri": "https://localhost:8080/",
          "height": 865
        }
      },
      "source": [
        "fig, ax = plt.subplots(2, 2, figsize=(15, 15))\n",
        "for i in range(4):\n",
        "    img = state[:, :, i].astype(int)\n",
        "    ax.reshape(4)[i].imshow(img.reshape(80, 80), cmap='gray')\n",
        "plt.show()"
      ],
      "execution_count": 5,
      "outputs": [
        {
          "output_type": "display_data",
          "data": {
            "image/png": "[encoded data removed]",
            "text/plain": [
              "<Figure size 1080x1080 with 4 Axes>"
            ]
          },
          "metadata": {
            "tags": []
          }
        }
      ]
    },
    {
      "cell_type": "markdown",
      "metadata": {
        "id": "zYkF9dM7hlC6",
        "colab_type": "text"
      },
      "source": [
        "### An approx to what it sees"
      ]
    },
    {
      "cell_type": "code",
      "metadata": {
        "id": "LyGw9RFNQo6f",
        "colab_type": "code",
        "outputId": "e55f4b3f-4410-44e1-bd5a-9ca1a41b8cbf",
        "colab": {
          "base_uri": "https://localhost:8080/",
          "height": 501
        }
      },
      "source": [
        "img = state[:, :, 1:].astype(int)\n",
        "print(img.shape, np.max(img), np.min(img))\n",
        "fig, ax = plt.subplots(figsize=(8, 8))\n",
        "ax.imshow(img)\n",
        "plt.show()"
      ],
      "execution_count": 6,
      "outputs": [
        {
          "output_type": "stream",
          "text": [
            "(80, 80, 3) 142 0\n"
          ],
          "name": "stdout"
        },
        {
          "output_type": "display_data",
          "data": {
            "image/png": "[encoded data removed]",
            "text/plain": [
              "<Figure size 576x576 with 1 Axes>"
            ]
          },
          "metadata": {
            "tags": []
          }
        }
      ]
    },
    {
      "cell_type": "markdown",
      "metadata": {
        "id": "WDIwjYb3h5Kf",
        "colab_type": "text"
      },
      "source": [
        "## A try to optimize"
      ]
    },
    {
      "cell_type": "code",
      "metadata": {
        "id": "c-6hRDqth5wC",
        "colab_type": "code",
        "colab": {
          "base_uri": "https://localhost:8080/",
          "height": 1000
        },
        "outputId": "0c4f0753-2c25-46dc-f8b8-8bead04d81d9"
      },
      "source": [
        "history = deque(maxlen=n_history)\n",
        "\n",
        "def resize_f(img):\n",
        "    img = img[list(range(0, img.shape[0], 2)), :][:, list(range(0, img.shape[1], 2))]\n",
        "    return img.reshape(img.shape[0], img.shape[1], 1)\n",
        "\n",
        "env = gym.make('Breakout-v0')\n",
        "obs = env.reset()\n",
        "fig, ax = plt.subplots(5, 2, figsize=(15, 40))\n",
        "for i in range(10):\n",
        "    obs, r, done, _ =  env.step(env.action_space.sample())\n",
        "    state, img = preprocess(obs)\n",
        "    ax.reshape(10)[i].imshow(img.reshape(80, 80), cmap='gray')\n",
        "plt.show()"
      ],
      "execution_count": 7,
      "outputs": [
        {
          "output_type": "display_data",
          "data": {
            "image/png": "[encoded data removed]",
            "text/plain": [
              "<Figure size 1080x2880 with 10 Axes>"
            ]
          },
          "metadata": {
            "tags": []
          }
        }
      ]
    },
    {
      "cell_type": "code",
      "metadata": {
        "colab_type": "code",
        "outputId": "3b9ff0dc-ce94-4343-d539-2e4c1d61c005",
        "id": "H5kj1hsEkTWB",
        "colab": {
          "base_uri": "https://localhost:8080/",
          "height": 865
        }
      },
      "source": [
        "fig, ax = plt.subplots(2, 2, figsize=(15, 15))\n",
        "for i in range(4):\n",
        "    img = state[:, :, i].astype(int)\n",
        "    ax.reshape(4)[i].imshow(img.reshape(80, 80), cmap='gray')\n",
        "plt.show()"
      ],
      "execution_count": 8,
      "outputs": [
        {
          "output_type": "display_data",
          "data": {
            "image/png": "[encoded data removed]",
            "text/plain": [
              "<Figure size 1080x1080 with 4 Axes>"
            ]
          },
          "metadata": {
            "tags": []
          }
        }
      ]
    },
    {
      "cell_type": "code",
      "metadata": {
        "colab_type": "code",
        "outputId": "a2c00246-3300-43a6-8042-44d0df45a461",
        "id": "UTvrx5KKkTWH",
        "colab": {
          "base_uri": "https://localhost:8080/",
          "height": 501
        }
      },
      "source": [
        "img = state[:, :, 1:].astype(int)\n",
        "print(img.shape, np.max(img), np.min(img))\n",
        "fig, ax = plt.subplots(figsize=(8, 8))\n",
        "ax.imshow(img)\n",
        "plt.show()"
      ],
      "execution_count": 9,
      "outputs": [
        {
          "output_type": "stream",
          "text": [
            "(80, 80, 3) 142 0\n"
          ],
          "name": "stdout"
        },
        {
          "output_type": "display_data",
          "data": {
            "image/png": "[encoded data removed]",
            "text/plain": [
              "<Figure size 576x576 with 1 Axes>"
            ]
          },
          "metadata": {
            "tags": []
          }
        }
      ]
    },
    {
      "cell_type": "markdown",
      "metadata": {
        "id": "9V3_PuYNkoG0",
        "colab_type": "text"
      },
      "source": [
        "Good result."
      ]
    },
    {
      "cell_type": "markdown",
      "metadata": {
        "id": "0iWlG56xksuU",
        "colab_type": "text"
      },
      "source": [
        "## New stats generation"
      ]
    },
    {
      "cell_type": "markdown",
      "metadata": {
        "id": "H8BruPbRmL1Y",
        "colab_type": "text"
      },
      "source": [
        "### Code"
      ]
    },
    {
      "cell_type": "code",
      "metadata": {
        "id": "LLGR5VN5kfw9",
        "colab_type": "code",
        "colab": {}
      },
      "source": [
        "# Inspired by 'Playing Atari with Deep Reinforcement Learning' (https://arxiv.org/abs/1312.5602)\n",
        "\n",
        "from collections import deque\n",
        "from gym import wrappers\n",
        "from keras.layers import Dense\n",
        "from keras.models import load_model, Sequential\n",
        "from keras.optimizers import Adam\n",
        "import argparse\n",
        "import gym\n",
        "import numpy as np\n",
        "import os\n",
        "import pickle\n",
        "import random\n",
        "import tensorflow as tf\n",
        "import time\n",
        "\n",
        "\n",
        "class NeuralNetwork():\n",
        "    def __init__(self, input_shape, action_size, learning_rate=0.001):\n",
        "        self.input_shape = input_shape\n",
        "        self.action_size = action_size\n",
        "        self.learning_rate = learning_rate\n",
        "        self.model = self.model_of_network()\n",
        "\n",
        "    def model_of_network(self):\n",
        "        model = tf.keras.Sequential([\n",
        "            tf.keras.layers.Conv2D(\n",
        "                filters=16,\n",
        "                kernel_size=8,\n",
        "                input_shape=self.input_shape\n",
        "            ),\n",
        "            tf.keras.layers.MaxPooling2D(),\n",
        "            tf.keras.layers.Conv2D(\n",
        "                filters=16,\n",
        "                kernel_size=4\n",
        "            ),\n",
        "            tf.keras.layers.MaxPooling2D(),\n",
        "            tf.keras.layers.Flatten(),\n",
        "            tf.keras.layers.Dense(\n",
        "                units=128,\n",
        "                activation='relu'\n",
        "            ),\n",
        "            tf.keras.layers.Dense(\n",
        "                units=self.action_size,\n",
        "                activation='linear'\n",
        "            )\n",
        "        ])\n",
        "        print(model.summary())\n",
        "        model.compile(loss='mean_squared_error', optimizer=tf.keras.optimizers.RMSprop(learning_rate=self.learning_rate))\n",
        "        return model\n",
        "\n",
        "\n",
        "class DeepQAgent():\n",
        "    def __init__(\n",
        "        self,\n",
        "        record,\n",
        "        env_name='Breakout-v0',\n",
        "        gamma=0.999,\n",
        "        max_frames=1000,\n",
        "        max_iterations=1000000,\n",
        "        epsilon_decay_until=100000,\n",
        "        epsilon_min=0.1,\n",
        "        replay_memory_capacity=100000,\n",
        "        minibatch_size=32,\n",
        "        nn_input_shape=(80, 80, 4),\n",
        "        n_history = 4\n",
        "    ):\n",
        "        self.env = gym.make(env_name)\n",
        "        if record:\n",
        "            self.env = wrappers.Monitor(self.env, os.path.join(os.getcwd(), 'videos', str(time.time())))\n",
        "        self.set_seeds(int(time.time()))\n",
        "        self.gamma = gamma\n",
        "        self.max_frames = max_frames\n",
        "        self.max_iterations = max_iterations\n",
        "        self.obs_shape = self.env.observation_space.shape\n",
        "        self.action_size = self.env.env.action_space.n\n",
        "        self.epsilon = 1.0\n",
        "        self.epsilon_decay_until = epsilon_decay_until\n",
        "        self.epsilon_min = epsilon_min\n",
        "        self.replay_memory_capacity = replay_memory_capacity\n",
        "        self.minibatch_size = minibatch_size\n",
        "        self.nn_input_shape = nn_input_shape\n",
        "        self.neural_network = NeuralNetwork(self.nn_input_shape, self.action_size)\n",
        "        self.n_history = n_history\n",
        "        self.history = deque(maxlen=self.n_history)\n",
        "\n",
        "    def set_seeds(self, seed):\n",
        "        \"\"\"Set random seeds using current time.\"\"\"\n",
        "        self.env.seed(seed)\n",
        "        np.random.seed(seed)\n",
        "        random.seed(seed)\n",
        "\n",
        "    def train(self):\n",
        "        \"\"\"Train deep Q-learning agent.\"\"\"\n",
        "        self.start_time = time.time()\n",
        "        self.deep_q_learning()\n",
        "\n",
        "    def deep_q_learning(self):\n",
        "        \"\"\"\n",
        "        Deep Q-learning algorithm.\n",
        "        It learns the Q function without knowing the transition probabilities, through deep neural networks.\n",
        "        \"\"\"\n",
        "        self.replay_memory = deque(maxlen=self.replay_memory_capacity)\n",
        "        self.target_network = NeuralNetwork(self.nn_input_shape, self.action_size)\n",
        "        self.target_network.model.set_weights(self.neural_network.model.get_weights())\n",
        "\n",
        "        episode = 0\n",
        "        self.i_frames = 0\n",
        "        while self.i_frames < self.max_frames:\n",
        "            if self.train_episode(episode):\n",
        "                break\n",
        "            # if (episode + 1) % 50 == 0:\n",
        "            #     self.sample(1)\n",
        "            episode += 1\n",
        "\n",
        "        self.env.close()\n",
        "\n",
        "    def train_episode(self, episode):\n",
        "        \"\"\"Train one episode of deep Q-learning.\"\"\"\n",
        "        self.history = deque(maxlen=self.n_history)\n",
        "        obs = self.env.reset()\n",
        "        state = self.preprocess(obs)\n",
        "        self.i_frames += 1\n",
        "        total_reward = 0\n",
        "        for i in range(self.max_iterations):\n",
        "            action = self.take_action(state)\n",
        "            obs, reward, done, _ = self.env.step(action)\n",
        "            state_ = self.preprocess(obs)\n",
        "            self.replay_memory.append([state, action, reward, state_, done])\n",
        "            self.train_from_replay()\n",
        "            state = state_\n",
        "            total_reward += reward\n",
        "            self.i_frames += 1\n",
        "            # self.env.render()\n",
        "            if self.i_frames >= self.max_frames:  # Max frames\n",
        "                return True\n",
        "            if done:\n",
        "                break\n",
        "        self.report(i, episode, total_reward)\n",
        "        self.sync_networks()\n",
        "        return False\n",
        "\n",
        "    def preprocess(self, obs):\n",
        "        \"\"\"Preprocess observation.\"\"\"\n",
        "        gray = self.gray(obs)\n",
        "        img = self.cut(gray)\n",
        "        img = self.resize(img)\n",
        "        state = self.create_state(img)\n",
        "        return state\n",
        "\n",
        "    def gray(self, obs):\n",
        "        return np.mean(obs, axis=2)\n",
        "\n",
        "    def cut(self, gray):\n",
        "        img = gray[32:, :]\n",
        "        x, y = img.shape\n",
        "        img = img[:-np.abs(x-y), :]\n",
        "        return img\n",
        "\n",
        "    def resize(self, img):\n",
        "        img = img[list(range(0, img.shape[0], 2)), :][:, list(range(0, img.shape[1], 2))]\n",
        "        return img.reshape(img.shape[0], img.shape[1], 1)\n",
        "\n",
        "    def create_state(self, img):\n",
        "        self.history.append(img)\n",
        "        state = np.concatenate(tuple(self.history), axis=2)\n",
        "        for _ in range(self.n_history - state.shape[2]):\n",
        "            state = np.concatenate((state, self.history[-1]), axis=2)  \n",
        "        return state\n",
        "\n",
        "    def take_action(self, state):\n",
        "        \"\"\"\n",
        "        Take action based in epsilon-greedy algorithm.\n",
        "        With small probabily, take a random action;\n",
        "        otherwise, take the action from the neural network.\n",
        "        \"\"\"\n",
        "        self.update_epsilon()\n",
        "        if np.random.rand() < self.epsilon:\n",
        "            action = np.random.choice(self.action_size)\n",
        "        else:\n",
        "            output = self.compute_values(state)\n",
        "            action = np.argmax(output)\n",
        "        return action\n",
        "\n",
        "    def update_epsilon(self):\n",
        "        \"\"\"Update epsilon for epsilon-greedy algorithm.\"\"\"\n",
        "        epsilon = 1 + (self.i_frames * self.epsilon_min - self.i_frames) / self.epsilon_decay_until\n",
        "        self.epsilon = np.max([self.epsilon_min, epsilon])\n",
        "\n",
        "    def compute_values(self, state):\n",
        "        \"\"\"Compute values of a state.\"\"\"\n",
        "        logits = self.neural_network.model.predict(state[None, :])\n",
        "        return logits[0, :]\n",
        "\n",
        "    def train_from_replay(self):\n",
        "        \"\"\"Train neural network from samples of replay memory.\"\"\"\n",
        "        if len(self.replay_memory) < self.minibatch_size:\n",
        "            # If there isn't enough samples\n",
        "            return\n",
        "        minibatch = random.sample(self.replay_memory, self.minibatch_size)\n",
        "        states, states_ = self.extract_states(minibatch)\n",
        "        targets = self.calculate_targets(minibatch, states, states_)\n",
        "        self.fit(states, targets)\n",
        "\n",
        "    def extract_states(self, minibatch):\n",
        "        states = []\n",
        "        states_ = []\n",
        "        for sample in minibatch:\n",
        "            state, action, reward, state_, done = sample\n",
        "            states.append(state)\n",
        "            states_.append(state_)\n",
        "        states = np.array(states)\n",
        "        states_ = np.array(states_)\n",
        "        return states, states_\n",
        "\n",
        "    def calculate_targets(self, minibatch, states, states_):\n",
        "        targets, targets_ = self.target_predict(states, states_)\n",
        "        for i, sample in enumerate(minibatch):\n",
        "            state, action, reward, state_, done = sample\n",
        "            if done:\n",
        "                targets[i][action] = reward\n",
        "            else:\n",
        "                targets[i][action] = reward + self.gamma * np.max(targets_[i])\n",
        "        return targets\n",
        "\n",
        "    def target_predict(self, states, states_):\n",
        "        targets = self.neural_network.model.predict(states)\n",
        "        targets_ = self.target_network.model.predict(states_)\n",
        "        return targets, targets_\n",
        "\n",
        "    def fit(self, states, targets):\n",
        "        self.neural_network.model.fit(\n",
        "            x=states,\n",
        "            y=targets,\n",
        "            verbose=0\n",
        "        )\n",
        "\n",
        "    def report(self, i, episode, total_reward):\n",
        "        \"\"\"Show status on console.\"\"\"\n",
        "        time_now = (time.time() - self.start_time) / 60\n",
        "        print('Ep. {}. Reward = {}, epsilon = {}, time = {:.2f}min'.format(episode, total_reward, self.epsilon, time_now), end='\\n\\n')\n",
        "\n",
        "    def sync_networks(self):\n",
        "        \"\"\"Sync original and target neural networks.\"\"\"\n",
        "        self.target_network.model.set_weights(self.neural_network.model.get_weights())\n",
        "\n",
        "    def sample_experience(self):\n",
        "        \"\"\"Sample experience from replay memory.\"\"\"\n",
        "        return self.replay_memory[np.random.choice(len(self.replay_memory))]\n",
        "\n",
        "    def save_network(self, network_path):\n",
        "        \"\"\"Save the network in order to run it faster.\"\"\"\n",
        "        os.makedirs(os.path.dirname(network_path), exist_ok=True)\n",
        "        self.neural_network.model.save(network_path)\n",
        "        print('Neural network saved.', end='\\n\\n')\n",
        "\n",
        "    def load_network(self, network_path):\n",
        "        \"\"\"Load the network in order to run it faster.\"\"\"\n",
        "        self.neural_network.model = load_model(network_path)\n",
        "        print('Neural network loaded.', end='\\n\\n')\n",
        "\n",
        "    def sample(self, n):\n",
        "        \"\"\"Sample the network.\"\"\"\n",
        "        print('Sampling network:')\n",
        "        for _ in range(n):\n",
        "            self.run_episode(render=True)\n",
        "        print()\n",
        "\n",
        "    def run_episode(self, render=False):\n",
        "        \"\"\"Run one episode for our network.\"\"\"\n",
        "        obs = self.env.reset()\n",
        "        total_reward = 0\n",
        "        for _ in range(self.max_iterations):\n",
        "            state = self.normalize_obs(obs)\n",
        "            action = self.which_action(state)\n",
        "            obs, reward, done, _ = self.env.step(action)\n",
        "            total_reward += reward\n",
        "            if render:\n",
        "                self.env.render()\n",
        "            if done:\n",
        "                break\n",
        "        self.env.close()\n",
        "        print('Reward: ', total_reward)\n",
        "\n",
        "    def which_action(self, state):\n",
        "        \"\"\"Select which is the best action based on the network.\"\"\"\n",
        "        return np.argmax(self.compute_values(state))\n",
        "\n",
        "\n",
        "def main():    \n",
        "    # parser = argparse.ArgumentParser()\n",
        "    # parser.add_argument('--run', action='store_true')\n",
        "    # parser.add_argument('--record', action='store_true')\n",
        "    # args = parser.parse_args()\n",
        "    # args.record = False\n",
        "    agent = DeepQAgent(False)#args.record)\n",
        "    # if args.run:\n",
        "    #     agent.load_network('data/deep_q_learning.h5')\n",
        "    #     agent.sample(5)\n",
        "    # else:\n",
        "    agent.train()\n",
        "    agent.save_network('data/deep_q_learning.h5')\n"
      ],
      "execution_count": 0,
      "outputs": []
    },
    {
      "cell_type": "markdown",
      "metadata": {
        "id": "E9gSciewmPci",
        "colab_type": "text"
      },
      "source": [
        "### Stats generation"
      ]
    },
    {
      "cell_type": "code",
      "metadata": {
        "id": "_dNcchsGk9Vp",
        "colab_type": "code",
        "colab": {
          "base_uri": "https://localhost:8080/",
          "height": 935
        },
        "outputId": "22017036-cb0d-4d91-dcd3-3fb46a99d322"
      },
      "source": [
        "cProfile.run('main()', 'breakout-colab-gpu-stats-1')"
      ],
      "execution_count": 11,
      "outputs": [
        {
          "output_type": "stream",
          "text": [
            "Model: \"sequential_2\"\n",
            "_________________________________________________________________\n",
            "Layer (type)                 Output Shape              Param #   \n",
            "=================================================================\n",
            "conv2d_4 (Conv2D)            (None, 73, 73, 16)        4112      \n",
            "_________________________________________________________________\n",
            "max_pooling2d_4 (MaxPooling2 (None, 36, 36, 16)        0         \n",
            "_________________________________________________________________\n",
            "conv2d_5 (Conv2D)            (None, 33, 33, 16)        4112      \n",
            "_________________________________________________________________\n",
            "max_pooling2d_5 (MaxPooling2 (None, 16, 16, 16)        0         \n",
            "_________________________________________________________________\n",
            "flatten_2 (Flatten)          (None, 4096)              0         \n",
            "_________________________________________________________________\n",
            "dense_4 (Dense)              (None, 128)               524416    \n",
            "_________________________________________________________________\n",
            "dense_5 (Dense)              (None, 4)                 516       \n",
            "=================================================================\n",
            "Total params: 533,156\n",
            "Trainable params: 533,156\n",
            "Non-trainable params: 0\n",
            "_________________________________________________________________\n",
            "None\n",
            "Model: \"sequential_3\"\n",
            "_________________________________________________________________\n",
            "Layer (type)                 Output Shape              Param #   \n",
            "=================================================================\n",
            "conv2d_6 (Conv2D)            (None, 73, 73, 16)        4112      \n",
            "_________________________________________________________________\n",
            "max_pooling2d_6 (MaxPooling2 (None, 36, 36, 16)        0         \n",
            "_________________________________________________________________\n",
            "conv2d_7 (Conv2D)            (None, 33, 33, 16)        4112      \n",
            "_________________________________________________________________\n",
            "max_pooling2d_7 (MaxPooling2 (None, 16, 16, 16)        0         \n",
            "_________________________________________________________________\n",
            "flatten_3 (Flatten)          (None, 4096)              0         \n",
            "_________________________________________________________________\n",
            "dense_6 (Dense)              (None, 128)               524416    \n",
            "_________________________________________________________________\n",
            "dense_7 (Dense)              (None, 4)                 516       \n",
            "=================================================================\n",
            "Total params: 533,156\n",
            "Trainable params: 533,156\n",
            "Non-trainable params: 0\n",
            "_________________________________________________________________\n",
            "None\n",
            "Ep. 0. Reward = 2.0, epsilon = 0.997282, time = 0.13min\n",
            "\n",
            "Ep. 1. Reward = 3.0, epsilon = 0.994231, time = 0.27min\n",
            "\n",
            "Ep. 2. Reward = 2.0, epsilon = 0.991702, time = 0.38min\n",
            "\n",
            "Neural network saved.\n",
            "\n"
          ],
          "name": "stdout"
        }
      ]
    },
    {
      "cell_type": "markdown",
      "metadata": {
        "colab_type": "text",
        "id": "0Za6b3xIlO0s"
      },
      "source": [
        "## New stats visualization"
      ]
    },
    {
      "cell_type": "code",
      "metadata": {
        "colab_type": "code",
        "outputId": "a6843453-9e19-4cae-fe68-94c16878e039",
        "id": "FcqG6kYZlO02",
        "colab": {
          "base_uri": "https://localhost:8080/",
          "height": 544
        }
      },
      "source": [
        "p = pstats.Stats('breakout-colab-gpu-stats-1')\n",
        "p.strip_dirs().sort_stats('cumulative').print_stats('ipython', 20);"
      ],
      "execution_count": 12,
      "outputs": [
        {
          "output_type": "stream",
          "text": [
            "Sun Mar 22 00:30:21 2020    breakout-colab-gpu-stats-1\n",
            "\n",
            "         11011203 function calls (10842481 primitive calls) in 25.653 seconds\n",
            "\n",
            "   Ordered by: cumulative time\n",
            "   List reduced from 1785 to 24 due to restriction <'ipython'>\n",
            "   List reduced from 24 to 20 due to restriction <20>\n",
            "\n",
            "   ncalls  tottime  percall  cumtime  percall filename:lineno(function)\n",
            "        1    0.000    0.000   25.647   25.647 <ipython-input-10-baf12de83ee2>:289(main)\n",
            "        1    0.000    0.000   25.028   25.028 <ipython-input-10-baf12de83ee2>:92(train)\n",
            "        1    0.000    0.000   25.028   25.028 <ipython-input-10-baf12de83ee2>:97(deep_q_learning)\n",
            "        4    0.119    0.030   24.768    6.192 <ipython-input-10-baf12de83ee2>:117(train_episode)\n",
            "      996    0.009    0.000   23.095    0.023 <ipython-input-10-baf12de83ee2>:194(train_from_replay)\n",
            "      965    0.135    0.000    8.919    0.009 <ipython-input-10-baf12de83ee2>:215(calculate_targets)\n",
            "      965    0.005    0.000    8.589    0.009 <ipython-input-10-baf12de83ee2>:225(target_predict)\n",
            "      965    0.003    0.000    7.873    0.008 <ipython-input-10-baf12de83ee2>:230(fit)\n",
            "      965    0.019    0.000    6.222    0.006 <ipython-input-10-baf12de83ee2>:204(extract_states)\n",
            "     1000    0.005    0.000    0.845    0.001 <ipython-input-10-baf12de83ee2>:142(preprocess)\n",
            "     1000    0.002    0.000    0.716    0.001 <ipython-input-10-baf12de83ee2>:150(gray)\n",
            "        1    0.000    0.000    0.498    0.498 <ipython-input-10-baf12de83ee2>:53(__init__)\n",
            "        2    0.000    0.000    0.252    0.126 <ipython-input-10-baf12de83ee2>:18(__init__)\n",
            "        2    0.000    0.000    0.252    0.126 <ipython-input-10-baf12de83ee2>:24(model_of_network)\n",
            "        1    0.000    0.000    0.176    0.176 <ipython-input-10-baf12de83ee2>:86(set_seeds)\n",
            "        1    0.000    0.000    0.122    0.122 <ipython-input-10-baf12de83ee2>:250(save_network)\n",
            "     1000    0.006    0.000    0.065    0.000 <ipython-input-10-baf12de83ee2>:163(create_state)\n",
            "      996    0.004    0.000    0.063    0.000 <ipython-input-10-baf12de83ee2>:170(take_action)\n",
            "     1000    0.051    0.000    0.053    0.000 <ipython-input-10-baf12de83ee2>:159(resize)\n",
            "      996    0.004    0.000    0.032    0.000 <ipython-input-10-baf12de83ee2>:184(update_epsilon)\n",
            "\n",
            "\n"
          ],
          "name": "stdout"
        }
      ]
    },
    {
      "cell_type": "markdown",
      "metadata": {
        "id": "vLrdGPsJll5b",
        "colab_type": "text"
      },
      "source": [
        "Nice result."
      ]
    },
    {
      "cell_type": "code",
      "metadata": {
        "id": "HL86qsLxmT0E",
        "colab_type": "code",
        "colab": {}
      },
      "source": [
        ""
      ],
      "execution_count": 0,
      "outputs": []
    }
  ]
}