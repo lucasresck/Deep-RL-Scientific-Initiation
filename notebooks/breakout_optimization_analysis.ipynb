{
  "nbformat": 4,
  "nbformat_minor": 0,
  "metadata": {
    "colab": {
      "name": "breakout_optimization_analysis.ipynb",
      "provenance": [],
      "collapsed_sections": [],
      "toc_visible": true,
      "authorship_tag": "ABX9TyOlF6ZcLdshmHwxu7QfvYZ1",
      "include_colab_link": true
    },
    "kernelspec": {
      "name": "python3",
      "display_name": "Python 3"
    },
    "accelerator": "GPU"
  },
  "cells": [
    {
      "cell_type": "markdown",
      "metadata": {
        "id": "view-in-github",
        "colab_type": "text"
      },
      "source": [
        "<a href=\"https://colab.research.google.com/github/lucasresck/deep-reinforcement-learning/blob/master/notebooks/breakout_optimization_analysis.ipynb\" target=\"_parent\"><img src=\"https://colab.research.google.com/assets/colab-badge.svg\" alt=\"Open In Colab\"/></a>"
      ]
    },
    {
      "cell_type": "markdown",
      "metadata": {
        "id": "gVSmzqpOnBxi",
        "colab_type": "text"
      },
      "source": [
        "# Breakout optimization analysis"
      ]
    },
    {
      "cell_type": "markdown",
      "metadata": {
        "id": "Kj8dGruzWjQc",
        "colab_type": "text"
      },
      "source": [
        "## Original code"
      ]
    },
    {
      "cell_type": "code",
      "metadata": {
        "id": "wNRnCLPlWmu-",
        "colab_type": "code",
        "colab": {}
      },
      "source": [
        "# Inspired by 'Playing Atari with Deep Reinforcement Learning' (https://arxiv.org/abs/1312.5602)\n",
        "\n",
        "from collections import deque\n",
        "from gym import wrappers\n",
        "from keras.layers import Dense\n",
        "from keras.models import load_model, Sequential\n",
        "from keras.optimizers import Adam\n",
        "import argparse\n",
        "import gym\n",
        "import numpy as np\n",
        "import os\n",
        "import pickle\n",
        "import random\n",
        "import tensorflow as tf\n",
        "import time\n",
        "\n",
        "\n",
        "class NeuralNetwork():\n",
        "    def __init__(self, input_shape, action_size, learning_rate=0.001):\n",
        "        self.input_shape = input_shape\n",
        "        self.action_size = action_size\n",
        "        self.learning_rate = learning_rate\n",
        "        self.model = self.model_of_network()\n",
        "\n",
        "    def model_of_network(self):\n",
        "        model = tf.keras.Sequential([\n",
        "            tf.keras.layers.Conv2D(\n",
        "                filters=16,\n",
        "                kernel_size=8,\n",
        "                input_shape=self.input_shape\n",
        "            ),\n",
        "            tf.keras.layers.MaxPooling2D(),\n",
        "            tf.keras.layers.Conv2D(\n",
        "                filters=16,\n",
        "                kernel_size=4\n",
        "            ),\n",
        "            tf.keras.layers.MaxPooling2D(),\n",
        "            tf.keras.layers.Flatten(),\n",
        "            tf.keras.layers.Dense(\n",
        "                units=128,\n",
        "                activation='relu'\n",
        "            ),\n",
        "            tf.keras.layers.Dense(\n",
        "                units=self.action_size,\n",
        "                activation='linear'\n",
        "            )\n",
        "        ])\n",
        "        print(model.summary())\n",
        "        model.compile(loss='mean_squared_error', optimizer=tf.keras.optimizers.RMSprop(learning_rate=self.learning_rate))\n",
        "        return model\n",
        "\n",
        "\n",
        "class DeepQAgent():\n",
        "    def __init__(\n",
        "        self,\n",
        "        record,\n",
        "        env_name='Breakout-v0',\n",
        "        gamma=0.999,\n",
        "        max_frames=1000,\n",
        "        max_iterations=1000000,\n",
        "        epsilon_decay_until=100000,\n",
        "        epsilon_min=0.1,\n",
        "        replay_memory_capacity=100000,\n",
        "        minibatch_size=32,\n",
        "        nn_input_shape=(80, 80, 4),\n",
        "        n_history = 4\n",
        "    ):\n",
        "        self.env = gym.make(env_name)\n",
        "        if record:\n",
        "            self.env = wrappers.Monitor(self.env, os.path.join(os.getcwd(), 'videos', str(time.time())))\n",
        "        self.set_seeds(int(time.time()))\n",
        "        self.gamma = gamma\n",
        "        self.max_frames = max_frames\n",
        "        self.max_iterations = max_iterations\n",
        "        self.obs_shape = self.env.observation_space.shape\n",
        "        self.action_size = self.env.env.action_space.n\n",
        "        self.epsilon = 1.0\n",
        "        self.epsilon_decay_until = epsilon_decay_until\n",
        "        self.epsilon_min = epsilon_min\n",
        "        self.replay_memory_capacity = replay_memory_capacity\n",
        "        self.minibatch_size = minibatch_size\n",
        "        self.nn_input_shape = nn_input_shape\n",
        "        self.neural_network = NeuralNetwork(self.nn_input_shape, self.action_size)\n",
        "        self.n_history = n_history\n",
        "        self.history = deque(maxlen=self.n_history)\n",
        "\n",
        "    def set_seeds(self, seed):\n",
        "        \"\"\"Set random seeds using current time.\"\"\"\n",
        "        self.env.seed(seed)\n",
        "        np.random.seed(seed)\n",
        "        random.seed(seed)\n",
        "\n",
        "    def train(self):\n",
        "        \"\"\"Train deep Q-learning agent.\"\"\"\n",
        "        self.start_time = time.time()\n",
        "        self.deep_q_learning()\n",
        "\n",
        "    def deep_q_learning(self):\n",
        "        \"\"\"\n",
        "        Deep Q-learning algorithm.\n",
        "        It learns the Q function without knowing the transition probabilities, through deep neural networks.\n",
        "        \"\"\"\n",
        "        self.replay_memory = deque(maxlen=self.replay_memory_capacity)\n",
        "        self.target_network = NeuralNetwork(self.nn_input_shape, self.action_size)\n",
        "        self.target_network.model.set_weights(self.neural_network.model.get_weights())\n",
        "\n",
        "        episode = 0\n",
        "        self.i_frames = 0\n",
        "        while self.i_frames < self.max_frames:\n",
        "            if self.train_episode(episode):\n",
        "                break\n",
        "            # if (episode + 1) % 50 == 0:\n",
        "            #     self.sample(1)\n",
        "            episode += 1\n",
        "\n",
        "        self.env.close()\n",
        "\n",
        "    def train_episode(self, episode):\n",
        "        \"\"\"Train one episode of deep Q-learning.\"\"\"\n",
        "        self.history = deque(maxlen=self.n_history)\n",
        "        obs = self.env.reset()\n",
        "        state = self.preprocess(obs)\n",
        "        self.i_frames += 1\n",
        "        total_reward = 0\n",
        "        for i in range(self.max_iterations):\n",
        "            action = self.take_action(state)\n",
        "            obs, reward, done, _ = self.env.step(action)\n",
        "            state_ = self.preprocess(obs)\n",
        "            self.replay_memory.append([state, action, reward, state_, done])\n",
        "            self.train_from_replay()\n",
        "            state = state_\n",
        "            total_reward += reward\n",
        "            self.i_frames += 1\n",
        "            # self.env.render()\n",
        "            if self.i_frames >= self.max_frames:  # Max frames\n",
        "                return True\n",
        "            if done:\n",
        "                break\n",
        "        self.report(i, episode, total_reward)\n",
        "        self.sync_networks()\n",
        "        return False\n",
        "\n",
        "    def preprocess(self, obs):\n",
        "        \"\"\"Preprocess observation.\"\"\"\n",
        "        gray = self.gray(obs)\n",
        "        img = self.cut(gray)\n",
        "        img = self.resize(img)\n",
        "        state = self.create_state(img)\n",
        "        return state\n",
        "\n",
        "    def gray(self, obs):\n",
        "        return np.mean(obs, axis=2)\n",
        "\n",
        "    def cut(self, gray):\n",
        "        img = gray[32:, :]\n",
        "        x, y = img.shape\n",
        "        img = img[:-np.abs(x-y), :]\n",
        "        return img\n",
        "    \n",
        "    def resize(self, img):\n",
        "        new_img = np.zeros((int(np.ceil(img.shape[0]/2)), int(np.ceil(img.shape[1]/2))))\n",
        "        for i in range(int(np.ceil(img.shape[0]/2))):\n",
        "            for j in range(int(np.ceil(img.shape[1]/2))):\n",
        "                new_img[i, j] = np.max(img[2*i:2*i+2, 2*j:2*j+2])\n",
        "        img = new_img\n",
        "        img = img.reshape(img.shape[0], img.shape[1], 1)\n",
        "        return img\n",
        "\n",
        "    def create_state(self, img):\n",
        "        self.history.append(img)\n",
        "        state = np.concatenate(tuple(self.history), axis=2)\n",
        "        for _ in range(self.n_history - state.shape[2]):\n",
        "            state = np.concatenate((state, self.history[-1]), axis=2)  \n",
        "        return state\n",
        "\n",
        "    def take_action(self, state):\n",
        "        \"\"\"\n",
        "        Take action based in epsilon-greedy algorithm.\n",
        "        With small probabily, take a random action;\n",
        "        otherwise, take the action from the neural network.\n",
        "        \"\"\"\n",
        "        self.update_epsilon()\n",
        "        if np.random.rand() < self.epsilon:\n",
        "            action = np.random.choice(self.action_size)\n",
        "        else:\n",
        "            output = self.compute_values(state)\n",
        "            action = np.argmax(output)\n",
        "        return action\n",
        "\n",
        "    def update_epsilon(self):\n",
        "        \"\"\"Update epsilon for epsilon-greedy algorithm.\"\"\"\n",
        "        epsilon = 1 + (self.i_frames * self.epsilon_min - self.i_frames) / self.epsilon_decay_until\n",
        "        self.epsilon = np.max([self.epsilon_min, epsilon])\n",
        "\n",
        "    def compute_values(self, state):\n",
        "        \"\"\"Compute values of a state.\"\"\"\n",
        "        logits = self.neural_network.model.predict(state[None, :])\n",
        "        return logits[0, :]\n",
        "\n",
        "    def train_from_replay(self):\n",
        "        \"\"\"Train neural network from samples of replay memory.\"\"\"\n",
        "        if len(self.replay_memory) < self.minibatch_size:\n",
        "            # If there isn't enough samples\n",
        "            return\n",
        "        minibatch = random.sample(self.replay_memory, self.minibatch_size)\n",
        "        states, states_ = self.extract_states(minibatch)\n",
        "        targets = self.calculate_targets(minibatch, states, states_)\n",
        "        self.fit(states, targets)\n",
        "\n",
        "    def extract_states(self, minibatch):\n",
        "        states = []\n",
        "        states_ = []\n",
        "        for sample in minibatch:\n",
        "            state, action, reward, state_, done = sample\n",
        "            states.append(state)\n",
        "            states_.append(state_)\n",
        "        states = np.array(states)\n",
        "        states_ = np.array(states_)\n",
        "        return states, states_\n",
        "\n",
        "    def calculate_targets(self, minibatch, states, states_):\n",
        "        targets, targets_ = self.target_predict(states, states_)\n",
        "        for i, sample in enumerate(minibatch):\n",
        "            state, action, reward, state_, done = sample\n",
        "            if done:\n",
        "                targets[i][action] = reward\n",
        "            else:\n",
        "                targets[i][action] = reward + self.gamma * np.max(targets_[i])\n",
        "        return targets\n",
        "\n",
        "    def target_predict(self, states, states_):\n",
        "        targets = self.neural_network.model.predict(states)\n",
        "        targets_ = self.target_network.model.predict(states_)\n",
        "        return targets, targets_\n",
        "\n",
        "    def fit(self, states, targets):\n",
        "        self.neural_network.model.fit(\n",
        "            x=states,\n",
        "            y=targets,\n",
        "            verbose=0\n",
        "        )\n",
        "\n",
        "    def report(self, i, episode, total_reward):\n",
        "        \"\"\"Show status on console.\"\"\"\n",
        "        time_now = (time.time() - self.start_time) / 60\n",
        "        print('Ep. {}. Reward = {}, epsilon = {}, time = {:.2f}min'.format(episode, total_reward, self.epsilon, time_now), end='\\n\\n')\n",
        "\n",
        "    def sync_networks(self):\n",
        "        \"\"\"Sync original and target neural networks.\"\"\"\n",
        "        self.target_network.model.set_weights(self.neural_network.model.get_weights())\n",
        "\n",
        "    def sample_experience(self):\n",
        "        \"\"\"Sample experience from replay memory.\"\"\"\n",
        "        return self.replay_memory[np.random.choice(len(self.replay_memory))]\n",
        "\n",
        "    def save_network(self, network_path):\n",
        "        \"\"\"Save the network in order to run it faster.\"\"\"\n",
        "        os.makedirs(os.path.dirname(network_path), exist_ok=True)\n",
        "        self.neural_network.model.save(network_path)\n",
        "        print('Neural network saved.', end='\\n\\n')\n",
        "\n",
        "    def load_network(self, network_path):\n",
        "        \"\"\"Load the network in order to run it faster.\"\"\"\n",
        "        self.neural_network.model = load_model(network_path)\n",
        "        print('Neural network loaded.', end='\\n\\n')\n",
        "\n",
        "    def sample(self, n):\n",
        "        \"\"\"Sample the network.\"\"\"\n",
        "        print('Sampling network:')\n",
        "        for _ in range(n):\n",
        "            self.run_episode(render=True)\n",
        "        print()\n",
        "\n",
        "    def run_episode(self, render=False):\n",
        "        \"\"\"Run one episode for our network.\"\"\"\n",
        "        obs = self.env.reset()\n",
        "        total_reward = 0\n",
        "        for _ in range(self.max_iterations):\n",
        "            state = self.normalize_obs(obs)\n",
        "            action = self.which_action(state)\n",
        "            obs, reward, done, _ = self.env.step(action)\n",
        "            total_reward += reward\n",
        "            if render:\n",
        "                self.env.render()\n",
        "            if done:\n",
        "                break\n",
        "        self.env.close()\n",
        "        print('Reward: ', total_reward)\n",
        "\n",
        "    def which_action(self, state):\n",
        "        \"\"\"Select which is the best action based on the network.\"\"\"\n",
        "        return np.argmax(self.compute_values(state))\n",
        "\n",
        "\n",
        "def main():    \n",
        "    # parser = argparse.ArgumentParser()\n",
        "    # parser.add_argument('--run', action='store_true')\n",
        "    # parser.add_argument('--record', action='store_true')\n",
        "    # args = parser.parse_args()\n",
        "    # args.record = False\n",
        "    agent = DeepQAgent(False)#args.record)\n",
        "    # if args.run:\n",
        "    #     agent.load_network('data/deep_q_learning.h5')\n",
        "    #     agent.sample(5)\n",
        "    # else:\n",
        "    agent.train()\n",
        "    agent.save_network('data/deep_q_learning.h5')\n"
      ],
      "execution_count": 0,
      "outputs": []
    },
    {
      "cell_type": "markdown",
      "metadata": {
        "id": "cNs03YwEVMLD",
        "colab_type": "text"
      },
      "source": [
        "## Stats generation"
      ]
    },
    {
      "cell_type": "code",
      "metadata": {
        "id": "XvSgDlk3MYhS",
        "colab_type": "code",
        "outputId": "42b6d6b7-cdc6-483f-c6b0-607f6faf158d",
        "colab": {
          "base_uri": "https://localhost:8080/",
          "height": 969
        }
      },
      "source": [
        "import cProfile\n",
        "cProfile.run('main()', 'breakout-colab-gpu-stats')"
      ],
      "execution_count": 51,
      "outputs": [
        {
          "output_type": "stream",
          "text": [
            "Model: \"sequential_4\"\n",
            "_________________________________________________________________\n",
            "Layer (type)                 Output Shape              Param #   \n",
            "=================================================================\n",
            "conv2d_8 (Conv2D)            (None, 73, 73, 16)        4112      \n",
            "_________________________________________________________________\n",
            "max_pooling2d_8 (MaxPooling2 (None, 36, 36, 16)        0         \n",
            "_________________________________________________________________\n",
            "conv2d_9 (Conv2D)            (None, 33, 33, 16)        4112      \n",
            "_________________________________________________________________\n",
            "max_pooling2d_9 (MaxPooling2 (None, 16, 16, 16)        0         \n",
            "_________________________________________________________________\n",
            "flatten_4 (Flatten)          (None, 4096)              0         \n",
            "_________________________________________________________________\n",
            "dense_8 (Dense)              (None, 128)               524416    \n",
            "_________________________________________________________________\n",
            "dense_9 (Dense)              (None, 4)                 516       \n",
            "=================================================================\n",
            "Total params: 533,156\n",
            "Trainable params: 533,156\n",
            "Non-trainable params: 0\n",
            "_________________________________________________________________\n",
            "None\n",
            "Model: \"sequential_5\"\n",
            "_________________________________________________________________\n",
            "Layer (type)                 Output Shape              Param #   \n",
            "=================================================================\n",
            "conv2d_10 (Conv2D)           (None, 73, 73, 16)        4112      \n",
            "_________________________________________________________________\n",
            "max_pooling2d_10 (MaxPooling (None, 36, 36, 16)        0         \n",
            "_________________________________________________________________\n",
            "conv2d_11 (Conv2D)           (None, 33, 33, 16)        4112      \n",
            "_________________________________________________________________\n",
            "max_pooling2d_11 (MaxPooling (None, 16, 16, 16)        0         \n",
            "_________________________________________________________________\n",
            "flatten_5 (Flatten)          (None, 4096)              0         \n",
            "_________________________________________________________________\n",
            "dense_10 (Dense)             (None, 128)               524416    \n",
            "_________________________________________________________________\n",
            "dense_11 (Dense)             (None, 4)                 516       \n",
            "=================================================================\n",
            "Total params: 533,156\n",
            "Trainable params: 533,156\n",
            "Non-trainable params: 0\n",
            "_________________________________________________________________\n",
            "None\n",
            "Ep. 0. Reward = 0.0, epsilon = 0.998416, time = 0.19min\n",
            "\n",
            "Ep. 1. Reward = 0.0, epsilon = 0.996661, time = 0.40min\n",
            "\n",
            "Ep. 2. Reward = 0.0, epsilon = 0.995158, time = 0.58min\n",
            "\n",
            "Ep. 3. Reward = 2.0, epsilon = 0.992359, time = 0.93min\n",
            "\n",
            "Neural network saved.\n",
            "\n"
          ],
          "name": "stdout"
        }
      ]
    },
    {
      "cell_type": "markdown",
      "metadata": {
        "id": "pstWo41uVSGJ",
        "colab_type": "text"
      },
      "source": [
        "## Stats visualization"
      ]
    },
    {
      "cell_type": "code",
      "metadata": {
        "colab_type": "code",
        "outputId": "ba412000-cba5-4e27-ae3b-8f75d92a4ce4",
        "id": "DJ_27lyZMW0E",
        "colab": {
          "base_uri": "https://localhost:8080/",
          "height": 476
        }
      },
      "source": [
        "import pstats\n",
        "p = pstats.Stats('breakout-colab-gpu-stats')\n",
        "p.strip_dirs().sort_stats('cumulative').print_stats('ipython', 15)"
      ],
      "execution_count": 52,
      "outputs": [
        {
          "output_type": "stream",
          "text": [
            "Sun Mar 22 00:15:52 2020    breakout-colab-gpu-stats\n",
            "\n",
            "         62465194 function calls (62296469 primitive calls) in 66.041 seconds\n",
            "\n",
            "   Ordered by: cumulative time\n",
            "   List reduced from 1785 to 24 due to restriction <'ipython'>\n",
            "   List reduced from 24 to 15 due to restriction <15>\n",
            "\n",
            "   ncalls  tottime  percall  cumtime  percall filename:lineno(function)\n",
            "        1    0.000    0.000   66.032   66.032 <ipython-input-50-ec5ea6e0964c>:294(main)\n",
            "        1    0.000    0.000   65.377   65.377 <ipython-input-50-ec5ea6e0964c>:92(train)\n",
            "        1    0.000    0.000   65.377   65.377 <ipython-input-50-ec5ea6e0964c>:97(deep_q_learning)\n",
            "        5    0.131    0.026   65.063   13.013 <ipython-input-50-ec5ea6e0964c>:117(train_episode)\n",
            "     1000    0.006    0.000   43.239    0.043 <ipython-input-50-ec5ea6e0964c>:142(preprocess)\n",
            "     1000    6.796    0.007   42.423    0.042 <ipython-input-50-ec5ea6e0964c>:159(resize)\n",
            "      995    0.011    0.000   20.921    0.021 <ipython-input-50-ec5ea6e0964c>:199(train_from_replay)\n",
            "      964    0.138    0.000    9.607    0.010 <ipython-input-50-ec5ea6e0964c>:220(calculate_targets)\n",
            "      964    0.007    0.000    9.275    0.010 <ipython-input-50-ec5ea6e0964c>:230(target_predict)\n",
            "      964    0.003    0.000    8.346    0.009 <ipython-input-50-ec5ea6e0964c>:235(fit)\n",
            "      964    0.021    0.000    2.880    0.003 <ipython-input-50-ec5ea6e0964c>:209(extract_states)\n",
            "     1000    0.002    0.000    0.730    0.001 <ipython-input-50-ec5ea6e0964c>:150(gray)\n",
            "        1    0.000    0.000    0.485    0.485 <ipython-input-50-ec5ea6e0964c>:53(__init__)\n",
            "        2    0.000    0.000    0.240    0.120 <ipython-input-50-ec5ea6e0964c>:18(__init__)\n",
            "        2    0.000    0.000    0.240    0.120 <ipython-input-50-ec5ea6e0964c>:24(model_of_network)\n",
            "\n",
            "\n"
          ],
          "name": "stdout"
        },
        {
          "output_type": "execute_result",
          "data": {
            "text/plain": [
              "<pstats.Stats at 0x7f13dfe89cf8>"
            ]
          },
          "metadata": {
            "tags": []
          },
          "execution_count": 52
        }
      ]
    },
    {
      "cell_type": "markdown",
      "metadata": {
        "id": "EyS8KShhVsLJ",
        "colab_type": "text"
      },
      "source": [
        "We have a problem with preprocess function, in special the resize function."
      ]
    },
    {
      "cell_type": "markdown",
      "metadata": {
        "id": "Um7DHGBeg527",
        "colab_type": "text"
      },
      "source": [
        "## Visualize states"
      ]
    },
    {
      "cell_type": "markdown",
      "metadata": {
        "id": "kDBm__1GhRPv",
        "colab_type": "text"
      },
      "source": [
        "Let's see what our network is seeing."
      ]
    },
    {
      "cell_type": "markdown",
      "metadata": {
        "id": "-Nx0f-pvhaxo",
        "colab_type": "text"
      },
      "source": [
        "### The treated images"
      ]
    },
    {
      "cell_type": "code",
      "metadata": {
        "id": "Nh1SDwrymHws",
        "colab_type": "code",
        "outputId": "38a4252d-a778-4efa-bf8d-0006d530e8ad",
        "colab": {
          "base_uri": "https://localhost:8080/",
          "height": 1000
        }
      },
      "source": [
        "from collections import deque\n",
        "import numpy as np\n",
        "import matplotlib.pyplot as plt\n",
        "import gym\n",
        "\n",
        "n_history = 4\n",
        "history = deque(maxlen=n_history)\n",
        "\n",
        "def preprocess(obs):\n",
        "    \"\"\"Preprocess observation.\"\"\"\n",
        "    gray = gray_f(obs)\n",
        "    img = cut_f(gray)\n",
        "    img = resize_f(img)\n",
        "    state = create_state(img)\n",
        "    return state, img\n",
        "\n",
        "def gray_f(obs):\n",
        "    return np.mean(obs, axis=2)\n",
        "\n",
        "def cut_f(gray):\n",
        "    img = gray[32:, :]\n",
        "    x, y = img.shape\n",
        "    img = img[:-np.abs(x-y), :]\n",
        "    return img\n",
        "\n",
        "def resize_f(img):\n",
        "    new_img = np.zeros((int(np.ceil(img.shape[0]/2)), int(np.ceil(img.shape[1]/2))))\n",
        "    for i in range(int(np.ceil(img.shape[0]/2))):\n",
        "        for j in range(int(np.ceil(img.shape[1]/2))):\n",
        "            new_img[i, j] = np.max(img[2*i:2*i+2, 2*j:2*j+2])\n",
        "    img = new_img\n",
        "    img = img.reshape(img.shape[0], img.shape[1], 1)\n",
        "    return img\n",
        "\n",
        "def create_state(img):\n",
        "    history.append(img)\n",
        "    state = np.concatenate(tuple(history), axis=2)\n",
        "    for _ in range(n_history - state.shape[2]):\n",
        "        state = np.concatenate((state, history[-1]), axis=2)  \n",
        "    return state\n",
        "\n",
        "env = gym.make('Breakout-v0')\n",
        "obs = env.reset()\n",
        "fig, ax = plt.subplots(5, 2, figsize=(15, 40))\n",
        "for i in range(10):\n",
        "    obs, r, done, _ =  env.step(env.action_space.sample())\n",
        "    state, img = preprocess(obs)\n",
        "    ax.reshape(10)[i].imshow(img.reshape(80, 80), cmap='gray')\n",
        "plt.show()"
      ],
      "execution_count": 53,
      "outputs": [
        {
          "output_type": "display_data",
          "data": {
            "image/png": "[encoded data removed]",
            "text/plain": [
              "<Figure size 1080x2880 with 10 Axes>"
            ]
          },
          "metadata": {
            "tags": []
          }
        }
      ]
    },
    {
      "cell_type": "markdown",
      "metadata": {
        "id": "bIiSIkfVhgr6",
        "colab_type": "text"
      },
      "source": [
        "### What the network sees"
      ]
    },
    {
      "cell_type": "code",
      "metadata": {
        "id": "pgxeVmXEQOSA",
        "colab_type": "code",
        "outputId": "a382fbd3-34c8-4b27-cc57-37cdd1e1ef5c",
        "colab": {
          "base_uri": "https://localhost:8080/",
          "height": 865
        }
      },
      "source": [
        "fig, ax = plt.subplots(2, 2, figsize=(15, 15))\n",
        "for i in range(4):\n",
        "    img = state[:, :, i].astype(int)\n",
        "    ax.reshape(4)[i].imshow(img.reshape(80, 80), cmap='gray')\n",
        "plt.show()"
      ],
      "execution_count": 54,
      "outputs": [
        {
          "output_type": "display_data",
          "data": {
            "image/png": "[encoded data removed]",
            "text/plain": [
              "<Figure size 1080x1080 with 4 Axes>"
            ]
          },
          "metadata": {
            "tags": []
          }
        }
      ]
    },
    {
      "cell_type": "markdown",
      "metadata": {
        "id": "zYkF9dM7hlC6",
        "colab_type": "text"
      },
      "source": [
        "### An approx to what it sees"
      ]
    },
    {
      "cell_type": "code",
      "metadata": {
        "id": "LyGw9RFNQo6f",
        "colab_type": "code",
        "outputId": "222dbe0b-695d-45d9-cf55-9e7b94881d07",
        "colab": {
          "base_uri": "https://localhost:8080/",
          "height": 501
        }
      },
      "source": [
        "img = state[:, :, 1:].astype(int)\n",
        "print(img.shape, np.max(img), np.min(img))\n",
        "fig, ax = plt.subplots(figsize=(8, 8))\n",
        "ax.imshow(img)\n",
        "plt.show()"
      ],
      "execution_count": 55,
      "outputs": [
        {
          "output_type": "stream",
          "text": [
            "(80, 80, 3) 142 0\n"
          ],
          "name": "stdout"
        },
        {
          "output_type": "display_data",
          "data": {
            "image/png": "[encoded data removed]",
            "text/plain": [
              "<Figure size 576x576 with 1 Axes>"
            ]
          },
          "metadata": {
            "tags": []
          }
        }
      ]
    },
    {
      "cell_type": "markdown",
      "metadata": {
        "id": "WDIwjYb3h5Kf",
        "colab_type": "text"
      },
      "source": [
        "## A try to optimize"
      ]
    },
    {
      "cell_type": "code",
      "metadata": {
        "id": "c-6hRDqth5wC",
        "colab_type": "code",
        "colab": {
          "base_uri": "https://localhost:8080/",
          "height": 1000
        },
        "outputId": "2ba577ce-a94c-45fc-a074-cacba5f8337e"
      },
      "source": [
        "def resize_f(img):\n",
        "    img = img[list(range(0, img.shape[0], 2)), :][:, list(range(0, img.shape[1], 2))]\n",
        "    return img.reshape(img.shape[0], img.shape[1], 1)\n",
        "\n",
        "obs = env.reset()\n",
        "fig, ax = plt.subplots(5, 2, figsize=(15, 40))\n",
        "for i in range(10):\n",
        "    obs, r, done, _ =  env.step(env.action_space.sample())\n",
        "    state, img = preprocess(obs)\n",
        "    ax.reshape(10)[i].imshow(img.reshape(80, 80), cmap='gray')\n",
        "plt.show()"
      ],
      "execution_count": 56,
      "outputs": [
        {
          "output_type": "display_data",
          "data": {
            "image/png": "[encoded data removed]",
            "text/plain": [
              "<Figure size 1080x2880 with 10 Axes>"
            ]
          },
          "metadata": {
            "tags": []
          }
        }
      ]
    },
    {
      "cell_type": "code",
      "metadata": {
        "colab_type": "code",
        "outputId": "4e9ee0a0-cb49-41e5-b4c0-e4af3e9c883c",
        "id": "H5kj1hsEkTWB",
        "colab": {
          "base_uri": "https://localhost:8080/",
          "height": 865
        }
      },
      "source": [
        "fig, ax = plt.subplots(2, 2, figsize=(15, 15))\n",
        "for i in range(4):\n",
        "    img = state[:, :, i].astype(int)\n",
        "    ax.reshape(4)[i].imshow(img.reshape(80, 80), cmap='gray')\n",
        "plt.show()"
      ],
      "execution_count": 57,
      "outputs": [
        {
          "output_type": "display_data",
          "data": {
            "image/png": "[encoded data removed]",
            "text/plain": [
              "<Figure size 1080x1080 with 4 Axes>"
            ]
          },
          "metadata": {
            "tags": []
          }
        }
      ]
    },
    {
      "cell_type": "code",
      "metadata": {
        "colab_type": "code",
        "outputId": "51f7fcff-21a0-4a90-b5cc-fa91a2cb9d6a",
        "id": "UTvrx5KKkTWH",
        "colab": {
          "base_uri": "https://localhost:8080/",
          "height": 501
        }
      },
      "source": [
        "img = state[:, :, 1:].astype(int)\n",
        "print(img.shape, np.max(img), np.min(img))\n",
        "fig, ax = plt.subplots(figsize=(8, 8))\n",
        "ax.imshow(img)\n",
        "plt.show()"
      ],
      "execution_count": 58,
      "outputs": [
        {
          "output_type": "stream",
          "text": [
            "(80, 80, 3) 142 0\n"
          ],
          "name": "stdout"
        },
        {
          "output_type": "display_data",
          "data": {
            "image/png": "[encoded data removed]",
            "text/plain": [
              "<Figure size 576x576 with 1 Axes>"
            ]
          },
          "metadata": {
            "tags": []
          }
        }
      ]
    },
    {
      "cell_type": "markdown",
      "metadata": {
        "id": "9V3_PuYNkoG0",
        "colab_type": "text"
      },
      "source": [
        "Good result."
      ]
    },
    {
      "cell_type": "markdown",
      "metadata": {
        "id": "0iWlG56xksuU",
        "colab_type": "text"
      },
      "source": [
        "## New stats generation"
      ]
    },
    {
      "cell_type": "markdown",
      "metadata": {
        "id": "H8BruPbRmL1Y",
        "colab_type": "text"
      },
      "source": [
        "### Code"
      ]
    },
    {
      "cell_type": "code",
      "metadata": {
        "id": "LLGR5VN5kfw9",
        "colab_type": "code",
        "colab": {}
      },
      "source": [
        "# Inspired by 'Playing Atari with Deep Reinforcement Learning' (https://arxiv.org/abs/1312.5602)\n",
        "\n",
        "from collections import deque\n",
        "from gym import wrappers\n",
        "from keras.layers import Dense\n",
        "from keras.models import load_model, Sequential\n",
        "from keras.optimizers import Adam\n",
        "import argparse\n",
        "import gym\n",
        "import numpy as np\n",
        "import os\n",
        "import pickle\n",
        "import random\n",
        "import tensorflow as tf\n",
        "import time\n",
        "\n",
        "\n",
        "class NeuralNetwork():\n",
        "    def __init__(self, input_shape, action_size, learning_rate=0.001):\n",
        "        self.input_shape = input_shape\n",
        "        self.action_size = action_size\n",
        "        self.learning_rate = learning_rate\n",
        "        self.model = self.model_of_network()\n",
        "\n",
        "    def model_of_network(self):\n",
        "        model = tf.keras.Sequential([\n",
        "            tf.keras.layers.Conv2D(\n",
        "                filters=16,\n",
        "                kernel_size=8,\n",
        "                input_shape=self.input_shape\n",
        "            ),\n",
        "            tf.keras.layers.MaxPooling2D(),\n",
        "            tf.keras.layers.Conv2D(\n",
        "                filters=16,\n",
        "                kernel_size=4\n",
        "            ),\n",
        "            tf.keras.layers.MaxPooling2D(),\n",
        "            tf.keras.layers.Flatten(),\n",
        "            tf.keras.layers.Dense(\n",
        "                units=128,\n",
        "                activation='relu'\n",
        "            ),\n",
        "            tf.keras.layers.Dense(\n",
        "                units=self.action_size,\n",
        "                activation='linear'\n",
        "            )\n",
        "        ])\n",
        "        print(model.summary())\n",
        "        model.compile(loss='mean_squared_error', optimizer=tf.keras.optimizers.RMSprop(learning_rate=self.learning_rate))\n",
        "        return model\n",
        "\n",
        "\n",
        "class DeepQAgent():\n",
        "    def __init__(\n",
        "        self,\n",
        "        record,\n",
        "        env_name='Breakout-v0',\n",
        "        gamma=0.999,\n",
        "        max_frames=1000,\n",
        "        max_iterations=1000000,\n",
        "        epsilon_decay_until=100000,\n",
        "        epsilon_min=0.1,\n",
        "        replay_memory_capacity=100000,\n",
        "        minibatch_size=32,\n",
        "        nn_input_shape=(80, 80, 4),\n",
        "        n_history = 4\n",
        "    ):\n",
        "        self.env = gym.make(env_name)\n",
        "        if record:\n",
        "            self.env = wrappers.Monitor(self.env, os.path.join(os.getcwd(), 'videos', str(time.time())))\n",
        "        self.set_seeds(int(time.time()))\n",
        "        self.gamma = gamma\n",
        "        self.max_frames = max_frames\n",
        "        self.max_iterations = max_iterations\n",
        "        self.obs_shape = self.env.observation_space.shape\n",
        "        self.action_size = self.env.env.action_space.n\n",
        "        self.epsilon = 1.0\n",
        "        self.epsilon_decay_until = epsilon_decay_until\n",
        "        self.epsilon_min = epsilon_min\n",
        "        self.replay_memory_capacity = replay_memory_capacity\n",
        "        self.minibatch_size = minibatch_size\n",
        "        self.nn_input_shape = nn_input_shape\n",
        "        self.neural_network = NeuralNetwork(self.nn_input_shape, self.action_size)\n",
        "        self.n_history = n_history\n",
        "        self.history = deque(maxlen=self.n_history)\n",
        "\n",
        "    def set_seeds(self, seed):\n",
        "        \"\"\"Set random seeds using current time.\"\"\"\n",
        "        self.env.seed(seed)\n",
        "        np.random.seed(seed)\n",
        "        random.seed(seed)\n",
        "\n",
        "    def train(self):\n",
        "        \"\"\"Train deep Q-learning agent.\"\"\"\n",
        "        self.start_time = time.time()\n",
        "        self.deep_q_learning()\n",
        "\n",
        "    def deep_q_learning(self):\n",
        "        \"\"\"\n",
        "        Deep Q-learning algorithm.\n",
        "        It learns the Q function without knowing the transition probabilities, through deep neural networks.\n",
        "        \"\"\"\n",
        "        self.replay_memory = deque(maxlen=self.replay_memory_capacity)\n",
        "        self.target_network = NeuralNetwork(self.nn_input_shape, self.action_size)\n",
        "        self.target_network.model.set_weights(self.neural_network.model.get_weights())\n",
        "\n",
        "        episode = 0\n",
        "        self.i_frames = 0\n",
        "        while self.i_frames < self.max_frames:\n",
        "            if self.train_episode(episode):\n",
        "                break\n",
        "            # if (episode + 1) % 50 == 0:\n",
        "            #     self.sample(1)\n",
        "            episode += 1\n",
        "\n",
        "        self.env.close()\n",
        "\n",
        "    def train_episode(self, episode):\n",
        "        \"\"\"Train one episode of deep Q-learning.\"\"\"\n",
        "        self.history = deque(maxlen=self.n_history)\n",
        "        obs = self.env.reset()\n",
        "        state = self.preprocess(obs)\n",
        "        self.i_frames += 1\n",
        "        total_reward = 0\n",
        "        for i in range(self.max_iterations):\n",
        "            action = self.take_action(state)\n",
        "            obs, reward, done, _ = self.env.step(action)\n",
        "            state_ = self.preprocess(obs)\n",
        "            self.replay_memory.append([state, action, reward, state_, done])\n",
        "            self.train_from_replay()\n",
        "            state = state_\n",
        "            total_reward += reward\n",
        "            self.i_frames += 1\n",
        "            # self.env.render()\n",
        "            if self.i_frames >= self.max_frames:  # Max frames\n",
        "                return True\n",
        "            if done:\n",
        "                break\n",
        "        self.report(i, episode, total_reward)\n",
        "        self.sync_networks()\n",
        "        return False\n",
        "\n",
        "    def preprocess(self, obs):\n",
        "        \"\"\"Preprocess observation.\"\"\"\n",
        "        gray = self.gray(obs)\n",
        "        img = self.cut(gray)\n",
        "        img = self.resize(img)\n",
        "        state = self.create_state(img)\n",
        "        return state\n",
        "\n",
        "    def gray(self, obs):\n",
        "        return np.mean(obs, axis=2)\n",
        "\n",
        "    def cut(self, gray):\n",
        "        img = gray[32:, :]\n",
        "        x, y = img.shape\n",
        "        img = img[:-np.abs(x-y), :]\n",
        "        return img\n",
        "\n",
        "    def resize(self, img):\n",
        "        img = img[list(range(0, img.shape[0], 2)), :][:, list(range(0, img.shape[1], 2))]\n",
        "        return img.reshape(img.shape[0], img.shape[1], 1)\n",
        "\n",
        "    def create_state(self, img):\n",
        "        self.history.append(img)\n",
        "        state = np.concatenate(tuple(self.history), axis=2)\n",
        "        for _ in range(self.n_history - state.shape[2]):\n",
        "            state = np.concatenate((state, self.history[-1]), axis=2)  \n",
        "        return state\n",
        "\n",
        "    def take_action(self, state):\n",
        "        \"\"\"\n",
        "        Take action based in epsilon-greedy algorithm.\n",
        "        With small probabily, take a random action;\n",
        "        otherwise, take the action from the neural network.\n",
        "        \"\"\"\n",
        "        self.update_epsilon()\n",
        "        if np.random.rand() < self.epsilon:\n",
        "            action = np.random.choice(self.action_size)\n",
        "        else:\n",
        "            output = self.compute_values(state)\n",
        "            action = np.argmax(output)\n",
        "        return action\n",
        "\n",
        "    def update_epsilon(self):\n",
        "        \"\"\"Update epsilon for epsilon-greedy algorithm.\"\"\"\n",
        "        epsilon = 1 + (self.i_frames * self.epsilon_min - self.i_frames) / self.epsilon_decay_until\n",
        "        self.epsilon = np.max([self.epsilon_min, epsilon])\n",
        "\n",
        "    def compute_values(self, state):\n",
        "        \"\"\"Compute values of a state.\"\"\"\n",
        "        logits = self.neural_network.model.predict(state[None, :])\n",
        "        return logits[0, :]\n",
        "\n",
        "    def train_from_replay(self):\n",
        "        \"\"\"Train neural network from samples of replay memory.\"\"\"\n",
        "        if len(self.replay_memory) < self.minibatch_size:\n",
        "            # If there isn't enough samples\n",
        "            return\n",
        "        minibatch = random.sample(self.replay_memory, self.minibatch_size)\n",
        "        states, states_ = self.extract_states(minibatch)\n",
        "        targets = self.calculate_targets(minibatch, states, states_)\n",
        "        self.fit(states, targets)\n",
        "\n",
        "    def extract_states(self, minibatch):\n",
        "        states = []\n",
        "        states_ = []\n",
        "        for sample in minibatch:\n",
        "            state, action, reward, state_, done = sample\n",
        "            states.append(state)\n",
        "            states_.append(state_)\n",
        "        states = np.array(states)\n",
        "        states_ = np.array(states_)\n",
        "        return states, states_\n",
        "\n",
        "    def calculate_targets(self, minibatch, states, states_):\n",
        "        targets, targets_ = self.target_predict(states, states_)\n",
        "        for i, sample in enumerate(minibatch):\n",
        "            state, action, reward, state_, done = sample\n",
        "            if done:\n",
        "                targets[i][action] = reward\n",
        "            else:\n",
        "                targets[i][action] = reward + self.gamma * np.max(targets_[i])\n",
        "        return targets\n",
        "\n",
        "    def target_predict(self, states, states_):\n",
        "        targets = self.neural_network.model.predict(states)\n",
        "        targets_ = self.target_network.model.predict(states_)\n",
        "        return targets, targets_\n",
        "\n",
        "    def fit(self, states, targets):\n",
        "        self.neural_network.model.fit(\n",
        "            x=states,\n",
        "            y=targets,\n",
        "            verbose=0\n",
        "        )\n",
        "\n",
        "    def report(self, i, episode, total_reward):\n",
        "        \"\"\"Show status on console.\"\"\"\n",
        "        time_now = (time.time() - self.start_time) / 60\n",
        "        print('Ep. {}. Reward = {}, epsilon = {}, time = {:.2f}min'.format(episode, total_reward, self.epsilon, time_now), end='\\n\\n')\n",
        "\n",
        "    def sync_networks(self):\n",
        "        \"\"\"Sync original and target neural networks.\"\"\"\n",
        "        self.target_network.model.set_weights(self.neural_network.model.get_weights())\n",
        "\n",
        "    def sample_experience(self):\n",
        "        \"\"\"Sample experience from replay memory.\"\"\"\n",
        "        return self.replay_memory[np.random.choice(len(self.replay_memory))]\n",
        "\n",
        "    def save_network(self, network_path):\n",
        "        \"\"\"Save the network in order to run it faster.\"\"\"\n",
        "        os.makedirs(os.path.dirname(network_path), exist_ok=True)\n",
        "        self.neural_network.model.save(network_path)\n",
        "        print('Neural network saved.', end='\\n\\n')\n",
        "\n",
        "    def load_network(self, network_path):\n",
        "        \"\"\"Load the network in order to run it faster.\"\"\"\n",
        "        self.neural_network.model = load_model(network_path)\n",
        "        print('Neural network loaded.', end='\\n\\n')\n",
        "\n",
        "    def sample(self, n):\n",
        "        \"\"\"Sample the network.\"\"\"\n",
        "        print('Sampling network:')\n",
        "        for _ in range(n):\n",
        "            self.run_episode(render=True)\n",
        "        print()\n",
        "\n",
        "    def run_episode(self, render=False):\n",
        "        \"\"\"Run one episode for our network.\"\"\"\n",
        "        obs = self.env.reset()\n",
        "        total_reward = 0\n",
        "        for _ in range(self.max_iterations):\n",
        "            state = self.normalize_obs(obs)\n",
        "            action = self.which_action(state)\n",
        "            obs, reward, done, _ = self.env.step(action)\n",
        "            total_reward += reward\n",
        "            if render:\n",
        "                self.env.render()\n",
        "            if done:\n",
        "                break\n",
        "        self.env.close()\n",
        "        print('Reward: ', total_reward)\n",
        "\n",
        "    def which_action(self, state):\n",
        "        \"\"\"Select which is the best action based on the network.\"\"\"\n",
        "        return np.argmax(self.compute_values(state))\n",
        "\n",
        "\n",
        "def main():    \n",
        "    # parser = argparse.ArgumentParser()\n",
        "    # parser.add_argument('--run', action='store_true')\n",
        "    # parser.add_argument('--record', action='store_true')\n",
        "    # args = parser.parse_args()\n",
        "    # args.record = False\n",
        "    agent = DeepQAgent(False)#args.record)\n",
        "    # if args.run:\n",
        "    #     agent.load_network('data/deep_q_learning.h5')\n",
        "    #     agent.sample(5)\n",
        "    # else:\n",
        "    agent.train()\n",
        "    agent.save_network('data/deep_q_learning.h5')\n"
      ],
      "execution_count": 0,
      "outputs": []
    },
    {
      "cell_type": "markdown",
      "metadata": {
        "id": "E9gSciewmPci",
        "colab_type": "text"
      },
      "source": [
        "### Stats generation"
      ]
    },
    {
      "cell_type": "code",
      "metadata": {
        "id": "_dNcchsGk9Vp",
        "colab_type": "code",
        "colab": {
          "base_uri": "https://localhost:8080/",
          "height": 969
        },
        "outputId": "394e101f-cbe7-46ba-fe96-434fb6c4605a"
      },
      "source": [
        "cProfile.run('main()', 'breakout-colab-gpu-stats-1')"
      ],
      "execution_count": 60,
      "outputs": [
        {
          "output_type": "stream",
          "text": [
            "Model: \"sequential_6\"\n",
            "_________________________________________________________________\n",
            "Layer (type)                 Output Shape              Param #   \n",
            "=================================================================\n",
            "conv2d_12 (Conv2D)           (None, 73, 73, 16)        4112      \n",
            "_________________________________________________________________\n",
            "max_pooling2d_12 (MaxPooling (None, 36, 36, 16)        0         \n",
            "_________________________________________________________________\n",
            "conv2d_13 (Conv2D)           (None, 33, 33, 16)        4112      \n",
            "_________________________________________________________________\n",
            "max_pooling2d_13 (MaxPooling (None, 16, 16, 16)        0         \n",
            "_________________________________________________________________\n",
            "flatten_6 (Flatten)          (None, 4096)              0         \n",
            "_________________________________________________________________\n",
            "dense_12 (Dense)             (None, 128)               524416    \n",
            "_________________________________________________________________\n",
            "dense_13 (Dense)             (None, 4)                 516       \n",
            "=================================================================\n",
            "Total params: 533,156\n",
            "Trainable params: 533,156\n",
            "Non-trainable params: 0\n",
            "_________________________________________________________________\n",
            "None\n",
            "Model: \"sequential_7\"\n",
            "_________________________________________________________________\n",
            "Layer (type)                 Output Shape              Param #   \n",
            "=================================================================\n",
            "conv2d_14 (Conv2D)           (None, 73, 73, 16)        4112      \n",
            "_________________________________________________________________\n",
            "max_pooling2d_14 (MaxPooling (None, 36, 36, 16)        0         \n",
            "_________________________________________________________________\n",
            "conv2d_15 (Conv2D)           (None, 33, 33, 16)        4112      \n",
            "_________________________________________________________________\n",
            "max_pooling2d_15 (MaxPooling (None, 16, 16, 16)        0         \n",
            "_________________________________________________________________\n",
            "flatten_7 (Flatten)          (None, 4096)              0         \n",
            "_________________________________________________________________\n",
            "dense_14 (Dense)             (None, 128)               524416    \n",
            "_________________________________________________________________\n",
            "dense_15 (Dense)             (None, 4)                 516       \n",
            "=================================================================\n",
            "Total params: 533,156\n",
            "Trainable params: 533,156\n",
            "Non-trainable params: 0\n",
            "_________________________________________________________________\n",
            "None\n",
            "Ep. 0. Reward = 0.0, epsilon = 0.998371, time = 0.08min\n",
            "\n",
            "Ep. 1. Reward = 0.0, epsilon = 0.996598, time = 0.16min\n",
            "\n",
            "Ep. 2. Reward = 2.0, epsilon = 0.994114, time = 0.28min\n",
            "\n",
            "Ep. 3. Reward = 1.0, epsilon = 0.992152, time = 0.38min\n",
            "\n",
            "Neural network saved.\n",
            "\n"
          ],
          "name": "stdout"
        }
      ]
    },
    {
      "cell_type": "markdown",
      "metadata": {
        "colab_type": "text",
        "id": "0Za6b3xIlO0s"
      },
      "source": [
        "## New stats visualization"
      ]
    },
    {
      "cell_type": "code",
      "metadata": {
        "colab_type": "code",
        "outputId": "5a4c15c1-23c4-4548-dc5f-298688edc305",
        "id": "FcqG6kYZlO02",
        "colab": {
          "base_uri": "https://localhost:8080/",
          "height": 544
        }
      },
      "source": [
        "p = pstats.Stats('breakout-colab-gpu-stats-1')\n",
        "p.strip_dirs().sort_stats('cumulative').print_stats('ipython', 20);"
      ],
      "execution_count": 61,
      "outputs": [
        {
          "output_type": "stream",
          "text": [
            "Sun Mar 22 00:16:54 2020    breakout-colab-gpu-stats-1\n",
            "\n",
            "         11520589 function calls (11351823 primitive calls) in 26.720 seconds\n",
            "\n",
            "   Ordered by: cumulative time\n",
            "   List reduced from 1785 to 24 due to restriction <'ipython'>\n",
            "   List reduced from 24 to 20 due to restriction <20>\n",
            "\n",
            "   ncalls  tottime  percall  cumtime  percall filename:lineno(function)\n",
            "        1    0.000    0.000   26.713   26.713 <ipython-input-59-baf12de83ee2>:289(main)\n",
            "        1    0.000    0.000   25.945   25.945 <ipython-input-59-baf12de83ee2>:92(train)\n",
            "        1    0.000    0.000   25.945   25.945 <ipython-input-59-baf12de83ee2>:97(deep_q_learning)\n",
            "        5    0.120    0.024   25.579    5.116 <ipython-input-59-baf12de83ee2>:117(train_episode)\n",
            "      995    0.009    0.000   23.863    0.024 <ipython-input-59-baf12de83ee2>:194(train_from_replay)\n",
            "      964    0.135    0.000    9.281    0.010 <ipython-input-59-baf12de83ee2>:215(calculate_targets)\n",
            "      964    0.006    0.000    8.951    0.009 <ipython-input-59-baf12de83ee2>:225(target_predict)\n",
            "      964    0.003    0.000    8.160    0.008 <ipython-input-59-baf12de83ee2>:230(fit)\n",
            "      964    0.019    0.000    6.340    0.007 <ipython-input-59-baf12de83ee2>:204(extract_states)\n",
            "     1000    0.005    0.000    0.858    0.001 <ipython-input-59-baf12de83ee2>:142(preprocess)\n",
            "     1000    0.002    0.000    0.725    0.001 <ipython-input-59-baf12de83ee2>:150(gray)\n",
            "        1    0.000    0.000    0.530    0.530 <ipython-input-59-baf12de83ee2>:53(__init__)\n",
            "        2    0.000    0.000    0.242    0.121 <ipython-input-59-baf12de83ee2>:18(__init__)\n",
            "        2    0.000    0.000    0.242    0.121 <ipython-input-59-baf12de83ee2>:24(model_of_network)\n",
            "        1    0.000    0.000    0.238    0.238 <ipython-input-59-baf12de83ee2>:250(save_network)\n",
            "        1    0.000    0.000    0.206    0.206 <ipython-input-59-baf12de83ee2>:86(set_seeds)\n",
            "      995    0.004    0.000    0.073    0.000 <ipython-input-59-baf12de83ee2>:170(take_action)\n",
            "     1000    0.006    0.000    0.066    0.000 <ipython-input-59-baf12de83ee2>:163(create_state)\n",
            "     1000    0.052    0.000    0.054    0.000 <ipython-input-59-baf12de83ee2>:159(resize)\n",
            "      995    0.004    0.000    0.033    0.000 <ipython-input-59-baf12de83ee2>:184(update_epsilon)\n",
            "\n",
            "\n"
          ],
          "name": "stdout"
        }
      ]
    },
    {
      "cell_type": "markdown",
      "metadata": {
        "id": "vLrdGPsJll5b",
        "colab_type": "text"
      },
      "source": [
        "Nice result."
      ]
    },
    {
      "cell_type": "code",
      "metadata": {
        "id": "HL86qsLxmT0E",
        "colab_type": "code",
        "colab": {}
      },
      "source": [
        ""
      ],
      "execution_count": 0,
      "outputs": []
    }
  ]
}